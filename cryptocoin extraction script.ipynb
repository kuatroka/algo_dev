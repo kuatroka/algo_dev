{
 "cells": [
  {
   "cell_type": "code",
   "execution_count": null,
   "metadata": {
    "collapsed": true,
    "scrolled": true
   },
   "outputs": [],
   "source": [
    "import json\n",
    "import pandas as pd\n",
    "from coinmarketcap import Market\n",
    "# function that checks for NaN in a pandas df\n",
    "def check_nan(df):\n",
    "    count = 0\n",
    "    for i,j in enumerate(df.isnull().sum()):\n",
    "        if j != 0:\n",
    "            print(df.columns[i], \"contains {} NaN\".format(j))\n",
    "            count += 1\n",
    "    if count == 0:\n",
    "        print(\"no NaN\")\n",
    "\n",
    "\n",
    "coinmarketcap = Market()\n",
    "# the output of below call is byte so we need to convert it to str\n",
    "a = coinmarketcap.ticker()\n",
    "# conversion bytecode to str\n",
    "json_thing = a.decode()\n",
    "json_thing = json.loads(json_thing)\n",
    "df = pd.DataFrame(json_thing)\n",
    "df.last_updated = pd.to_datetime(df.last_updated, unit='s')\n",
    "del df['available_supply']\n",
    "del df['id']\n",
    "del df['percent_change_1h']\n",
    "del df['percent_change_7d']\n",
    "del df['name']\n",
    "del df['total_supply']\n",
    "\n",
    "df = df[['24h_volume_usd', 'symbol', 'last_updated', 'market_cap_usd',\n",
    "       'percent_change_24h', 'price_btc', 'price_usd', 'rank']]\n",
    "check_nan(df)\n",
    "df.dropna(inplace=True)\n",
    "check_nan(df)\n",
    "# df.sort_values('24h_volume_usd', ascending=False, inplace=True)\n",
    "json_thing"
   ]
  },
  {
   "cell_type": "code",
   "execution_count": 140,
   "metadata": {},
   "outputs": [
    {
     "name": "stdout",
     "output_type": "stream",
     "text": [
      "1413021600\n",
      "1420192800\n"
     ]
    }
   ],
   "source": [
    "# limit = 2000 <> rows 2000\n",
    "# from 2014-10-11 03:00:00\n",
    "# to 2015-01-02 10:00:00\n",
    "\n",
    "print(r.json()['TimeFrom'])\n",
    "print(r.json()['TimeTo'])"
   ]
  },
  {
   "cell_type": "code",
   "execution_count": 179,
   "metadata": {},
   "outputs": [
    {
     "name": "stdout",
     "output_type": "stream",
     "text": [
      "Date From 2014-10-11 04:00:00\n",
      "Date To 2015-01-02 10:00:00\n"
     ]
    },
    {
     "data": {
      "text/plain": [
       "1420192800.0"
      ]
     },
     "execution_count": 179,
     "metadata": {},
     "output_type": "execute_result"
    }
   ],
   "source": [
    "import datetime\n",
    "print(\"Date From\",datetime.datetime.fromtimestamp(r.json()['TimeFrom']))\n",
    "print(\"Date To\", datetime.datetime.fromtimestamp(r.json()['TimeTo']))\n",
    "\n",
    "date_from  = datetime.datetime(2015, 1, 2, 10, 00, 00).timestamp()\n",
    "date_from"
   ]
  },
  {
   "cell_type": "code",
   "execution_count": 170,
   "metadata": {},
   "outputs": [
    {
     "data": {
      "text/plain": [
       "datetime.datetime(2015, 1, 2, 10, 59, 59)"
      ]
     },
     "execution_count": 170,
     "metadata": {},
     "output_type": "execute_result"
    }
   ],
   "source": [
    "datetime.datetime.fromtimestamp(1420196399)"
   ]
  },
  {
   "cell_type": "code",
   "execution_count": 268,
   "metadata": {},
   "outputs": [
    {
     "data": {
      "text/plain": [
       "1412982000.0"
      ]
     },
     "execution_count": 268,
     "metadata": {},
     "output_type": "execute_result"
    }
   ],
   "source": [
    "import datetime\n",
    "import time\n",
    "dt = parser.parse(\"2014-10-11 04:00:00\")\n",
    "time.mktime(dt.timetuple())"
   ]
  },
  {
   "cell_type": "code",
   "execution_count": 160,
   "metadata": {
    "collapsed": true
   },
   "outputs": [],
   "source": [
    "from dateutil import parser\n",
    "dt = parser.parse(\"2014-10-11 04:00:00\")"
   ]
  },
  {
   "cell_type": "markdown",
   "metadata": {},
   "source": [
    "### Historical data extraction with help of cryptocompare.com API\n",
    "https://www.cryptocompare.com/api/#introduction"
   ]
  },
  {
   "cell_type": "code",
   "execution_count": 28,
   "metadata": {},
   "outputs": [
    {
     "name": "stdout",
     "output_type": "stream",
     "text": [
      "2017-06-01 00:00:00\n",
      "2017-06-06 00:00:00\n",
      "There are 120 hrs or 5.00 days between the dates 2017-06-01 00:00:00 and 2017-06-06 00:00:00\n",
      "The Date To timestamp is 1496703600.0\n",
      "Prices from the exchange: Kraken\n",
      "##########################\n"
     ]
    },
    {
     "data": {
      "text/html": [
       "<div>\n",
       "<table border=\"1\" class=\"dataframe\">\n",
       "  <thead>\n",
       "    <tr style=\"text-align: right;\">\n",
       "      <th></th>\n",
       "      <th>close</th>\n",
       "      <th>high</th>\n",
       "      <th>low</th>\n",
       "      <th>open</th>\n",
       "      <th>volumefrom</th>\n",
       "      <th>volumeto</th>\n",
       "    </tr>\n",
       "    <tr>\n",
       "      <th>time</th>\n",
       "      <th></th>\n",
       "      <th></th>\n",
       "      <th></th>\n",
       "      <th></th>\n",
       "      <th></th>\n",
       "      <th></th>\n",
       "    </tr>\n",
       "  </thead>\n",
       "  <tbody>\n",
       "    <tr>\n",
       "      <th>2017-06-05 21:00:00</th>\n",
       "      <td>2358.67</td>\n",
       "      <td>2359.02</td>\n",
       "      <td>2355.54</td>\n",
       "      <td>2355.96</td>\n",
       "      <td>2.3400</td>\n",
       "      <td>5502.62</td>\n",
       "    </tr>\n",
       "    <tr>\n",
       "      <th>2017-06-05 21:01:00</th>\n",
       "      <td>2359.02</td>\n",
       "      <td>2359.02</td>\n",
       "      <td>2355.89</td>\n",
       "      <td>2358.67</td>\n",
       "      <td>1.8700</td>\n",
       "      <td>4419.74</td>\n",
       "    </tr>\n",
       "    <tr>\n",
       "      <th>2017-06-05 21:02:00</th>\n",
       "      <td>2359.02</td>\n",
       "      <td>2359.02</td>\n",
       "      <td>2355.96</td>\n",
       "      <td>2359.02</td>\n",
       "      <td>0.3479</td>\n",
       "      <td>820.38</td>\n",
       "    </tr>\n",
       "    <tr>\n",
       "      <th>2017-06-05 21:03:00</th>\n",
       "      <td>2359.02</td>\n",
       "      <td>2359.02</td>\n",
       "      <td>2359.01</td>\n",
       "      <td>2359.02</td>\n",
       "      <td>2.1300</td>\n",
       "      <td>5014.99</td>\n",
       "    </tr>\n",
       "    <tr>\n",
       "      <th>2017-06-05 21:04:00</th>\n",
       "      <td>2359.02</td>\n",
       "      <td>2359.02</td>\n",
       "      <td>2359.01</td>\n",
       "      <td>2359.02</td>\n",
       "      <td>0.5619</td>\n",
       "      <td>1325.47</td>\n",
       "    </tr>\n",
       "  </tbody>\n",
       "</table>\n",
       "</div>"
      ],
      "text/plain": [
       "                       close     high      low     open  volumefrom  volumeto\n",
       "time                                                                         \n",
       "2017-06-05 21:00:00  2358.67  2359.02  2355.54  2355.96      2.3400   5502.62\n",
       "2017-06-05 21:01:00  2359.02  2359.02  2355.89  2358.67      1.8700   4419.74\n",
       "2017-06-05 21:02:00  2359.02  2359.02  2355.96  2359.02      0.3479    820.38\n",
       "2017-06-05 21:03:00  2359.02  2359.02  2359.01  2359.02      2.1300   5014.99\n",
       "2017-06-05 21:04:00  2359.02  2359.02  2359.01  2359.02      0.5619   1325.47"
      ]
     },
     "metadata": {},
     "output_type": "display_data"
    },
    {
     "data": {
      "text/html": [
       "<div>\n",
       "<table border=\"1\" class=\"dataframe\">\n",
       "  <thead>\n",
       "    <tr style=\"text-align: right;\">\n",
       "      <th></th>\n",
       "      <th>close</th>\n",
       "      <th>high</th>\n",
       "      <th>low</th>\n",
       "      <th>open</th>\n",
       "      <th>volumefrom</th>\n",
       "      <th>volumeto</th>\n",
       "    </tr>\n",
       "    <tr>\n",
       "      <th>time</th>\n",
       "      <th></th>\n",
       "      <th></th>\n",
       "      <th></th>\n",
       "      <th></th>\n",
       "      <th></th>\n",
       "      <th></th>\n",
       "    </tr>\n",
       "  </thead>\n",
       "  <tbody>\n",
       "    <tr>\n",
       "      <th>2017-06-05 22:56:00</th>\n",
       "      <td>2376.66</td>\n",
       "      <td>2379.00</td>\n",
       "      <td>2376.66</td>\n",
       "      <td>2376.75</td>\n",
       "      <td>7.35</td>\n",
       "      <td>17470.81</td>\n",
       "    </tr>\n",
       "    <tr>\n",
       "      <th>2017-06-05 22:57:00</th>\n",
       "      <td>2374.88</td>\n",
       "      <td>2376.67</td>\n",
       "      <td>2368.05</td>\n",
       "      <td>2376.66</td>\n",
       "      <td>16.48</td>\n",
       "      <td>39097.93</td>\n",
       "    </tr>\n",
       "    <tr>\n",
       "      <th>2017-06-05 22:58:00</th>\n",
       "      <td>2373.16</td>\n",
       "      <td>2374.88</td>\n",
       "      <td>2369.00</td>\n",
       "      <td>2374.88</td>\n",
       "      <td>5.78</td>\n",
       "      <td>13719.27</td>\n",
       "    </tr>\n",
       "    <tr>\n",
       "      <th>2017-06-05 22:59:00</th>\n",
       "      <td>2368.39</td>\n",
       "      <td>2373.16</td>\n",
       "      <td>2368.39</td>\n",
       "      <td>2373.16</td>\n",
       "      <td>10.43</td>\n",
       "      <td>24731.78</td>\n",
       "    </tr>\n",
       "    <tr>\n",
       "      <th>2017-06-05 23:00:00</th>\n",
       "      <td>2371.03</td>\n",
       "      <td>2371.03</td>\n",
       "      <td>2366.26</td>\n",
       "      <td>2368.39</td>\n",
       "      <td>5.29</td>\n",
       "      <td>12533.87</td>\n",
       "    </tr>\n",
       "  </tbody>\n",
       "</table>\n",
       "</div>"
      ],
      "text/plain": [
       "                       close     high      low     open  volumefrom  volumeto\n",
       "time                                                                         \n",
       "2017-06-05 22:56:00  2376.66  2379.00  2376.66  2376.75        7.35  17470.81\n",
       "2017-06-05 22:57:00  2374.88  2376.67  2368.05  2376.66       16.48  39097.93\n",
       "2017-06-05 22:58:00  2373.16  2374.88  2369.00  2374.88        5.78  13719.27\n",
       "2017-06-05 22:59:00  2368.39  2373.16  2368.39  2373.16       10.43  24731.78\n",
       "2017-06-05 23:00:00  2371.03  2371.03  2366.26  2368.39        5.29  12533.87"
      ]
     },
     "metadata": {},
     "output_type": "display_data"
    }
   ],
   "source": [
    "##### Hourly data from cryprocompare\n",
    "\n",
    "import pandas as pd\n",
    "import datetime\n",
    "import requests\n",
    "from IPython.display import display\n",
    "\n",
    "# generic url for data extraction from cryptocompare.com's API\n",
    "url = 'https://min-api.cryptocompare.com/data/{0}?fsym={1}&tsym={2}&limit={3}&toTs={4}&e={5}'\n",
    "\n",
    "# parameters for the url\n",
    "# data resolution {0}\n",
    "hourly_data = \"histohour\"\n",
    "minute_data = \"histominute\"\n",
    "# currency from {1}\n",
    "curr_from = \"BTC\"\n",
    "# currency to {2}\n",
    "curr_to = \"EUR\"\n",
    "\n",
    "############################################################\n",
    "# limit of hours with maximum 2000 (1992 is 83 days) {3}\n",
    "# calculating and converting time for data extraction {4}\n",
    "date_from_datetime  = datetime.datetime(2017, 6, 1, 0, 0)\n",
    "print(date_from_datetime)\n",
    "\n",
    "# enter date_to that is <= than 83 days from date_from for hourly data or <= 83 hr if minute data\n",
    "date_to_datetime = datetime.datetime(2017, 6, 6, 0, 0)\n",
    "print(date_to_datetime)\n",
    "\n",
    "# checking that the entered dates have no more than 2000 hr between them\n",
    "delta_in_hours = int(((date_to_datetime - date_from_datetime).total_seconds() / 3600))\n",
    "print(\"There are {0} hrs or {1:.2f} days between the dates {2} and {3}\".format(delta_in_hours, delta_in_hours / 24, \\\n",
    "      date_from_datetime, date_to_datetime))\n",
    "limit_hours = 2000\n",
    "assert (delta_in_hours < limit_hours), \\\n",
    "\"There must be <= {0} hrs between dates, but the current value is {1}. Change the dates interval\"\\\n",
    ".format(limit_hours, delta_in_hours)\n",
    "    \n",
    "# calculating the the date_to by adding 1999 hr to the date_from\n",
    "# date_to = (date_from_datetime + datetime.timedelta(hours=2000-1))\n",
    "date_to_timestamp = date_to_datetime.timestamp()\n",
    "print(\"The Date To timestamp is {}\".format(date_to_timestamp))\n",
    "############################################################\n",
    "\n",
    "# coin exchange name, if not used, then CCAGG  {5}\n",
    "exchange = \"Kraken\"#\"&e=Kraken\" (default exchange is CCCAGG)\n",
    "\n",
    "\n",
    "\n",
    "r = requests.get(url.format(minute_data, curr_from, curr_to, delta_in_hours, date_to_timestamp, exchange))\n",
    "\n",
    "df = pd.DataFrame(r.json()['Data'])\n",
    "df.time = pd.to_datetime(df.time, unit='s')\n",
    "if exchange == \"\": exchange = \"CCCAGG\"\n",
    "print(\"Prices from the exchange: {}\".format(exchange))\n",
    "\n",
    "print(\"##########################\")\n",
    "df.set_index(df['time'], drop=True, inplace=True)\n",
    "del df['time']\n",
    "display(df.head(5))\n",
    "display(df.tail(5))"
   ]
  },
  {
   "cell_type": "code",
   "execution_count": 20,
   "metadata": {},
   "outputs": [
    {
     "name": "stderr",
     "output_type": "stream",
     "text": [
      " * Running on http://127.0.0.1:5000/ (Press CTRL+C to quit)\n",
      "127.0.0.1 - - [04/Jun/2017 20:25:06] \"GET / HTTP/1.1\" 200 -\n"
     ]
    }
   ],
   "source": [
    "from flask import Flask\n",
    "app = Flask (__name__)\n",
    "\n",
    "@app.route(\"/\")\n",
    "def hello():\n",
    "    return \"hello me!\"\n",
    "\n",
    "if __name__ == \"__main__\":\n",
    "    app.run()\n"
   ]
  },
  {
   "cell_type": "code",
   "execution_count": 24,
   "metadata": {},
   "outputs": [
    {
     "data": {
      "text/plain": [
       "[2527.42, 2527.42, 2528.92, 2528.92, 2529.12, 2529.12, 2529.12, 2528.8]"
      ]
     },
     "execution_count": 24,
     "metadata": {},
     "output_type": "execute_result"
    }
   ],
   "source": [
    "l1"
   ]
  },
  {
   "cell_type": "code",
   "execution_count": 9,
   "metadata": {},
   "outputs": [
    {
     "data": {
      "text/plain": [
       "<rethinkdb.net.DefaultConnection at 0x7f39e7ded470>"
      ]
     },
     "execution_count": 9,
     "metadata": {},
     "output_type": "execute_result"
    }
   ],
   "source": [
    "import rethinkdb as r\n",
    "import pandas as pd\n",
    "import json\n",
    "r.connect( \"localhost\", 28015).repl()"
   ]
  },
  {
   "cell_type": "code",
   "execution_count": 8,
   "metadata": {},
   "outputs": [
    {
     "data": {
      "text/plain": [
       "<rethinkdb.net.DefaultCursor object at 0x7f39e7ded7b8 (done streaming):\n",
       " [{'posts': [{'title': 'Civil rights', 'content': \"There are some words I've known since...\"}], 'name': 'Jean-Luc Picard', 'id': '56d53d54-7ef4-41b7-8846-7619eefae777', 'tv_show': 'Star Trek TNG'}, {'posts': [{'title': 'Decommissioning speech', 'content': 'The Cylon War is long over...'}, {'title': 'We are at war', 'content': 'Moments ago, this ship received...'}, {'title': 'The new Earth', 'content': 'The discoveries of the past few days...'}], 'name': 'William Adama', 'id': '68ce53bd-9e13-4fc0-96f9-923cc7b752f9', 'tv_show': 'Battlestar Galactica'}, {'posts': [{'title': 'The oath of office', 'content': 'I, Laura Roslin, ...'}, {'title': 'They look like us', 'content': 'The Cylons have the ability...'}], 'name': 'Laura Roslin', 'id': 'dfdc8db5-d1fd-4ea9-ad81-a6b88149b463', 'tv_show': 'Battlestar Galactica'}]>"
      ]
     },
     "execution_count": 8,
     "metadata": {},
     "output_type": "execute_result"
    }
   ],
   "source": [
    "authors = r.db(\"test\").table(\"authors\").run()\n",
    "authors"
   ]
  },
  {
   "cell_type": "code",
   "execution_count": 12,
   "metadata": {
    "collapsed": true
   },
   "outputs": [],
   "source": [
    "for i in authors:\n",
    "    print(i.json())"
   ]
  },
  {
   "cell_type": "code",
   "execution_count": 367,
   "metadata": {},
   "outputs": [
    {
     "data": {
      "text/plain": [
       "{'config_changes': [{'new_val': {'db': 'COIN_PRICES',\n",
       "    'durability': 'hard',\n",
       "    'id': '9fe39dc0-431f-4603-b9ec-63ee4e8223e7',\n",
       "    'indexes': [],\n",
       "    'name': 'BTCUSD_HOUR',\n",
       "    'primary_key': 'id',\n",
       "    'shards': [{'nonvoting_replicas': [],\n",
       "      'primary_replica': 'yol_desktop_jt4',\n",
       "      'replicas': ['yol_desktop_jt4']}],\n",
       "    'write_acks': 'majority'},\n",
       "   'old_val': None}],\n",
       " 'tables_created': 1}"
      ]
     },
     "execution_count": 367,
     "metadata": {},
     "output_type": "execute_result"
    }
   ],
   "source": [
    "#r.db_create(\"COIN_PRICES\").run()\n",
    "r.db(\"COIN_PRICES\").table_create(\"BTCUSD\").run()\n",
    "r.db(\"COIN_PRICES\").table(\"BTCUSD\").insert({'USD': 2510.01}).run()"
   ]
  },
  {
   "cell_type": "code",
   "execution_count": 289,
   "metadata": {
    "scrolled": true
   },
   "outputs": [
    {
     "data": {
      "text/plain": [
       "Timestamp('2017-06-07 12:48:00')"
      ]
     },
     "execution_count": 289,
     "metadata": {},
     "output_type": "execute_result"
    }
   ],
   "source": [
    "import datetime\n",
    "datetime.datetime.fromtimestamp(1420196399)\n",
    "\n",
    "import datetime\n",
    "import time\n",
    "dt = parser.parse(\"2014-10-11 04:00:00\")\n",
    "time.mktime(dt.timetuple())\n",
    "\n",
    "tmp = pd.to_datetime(1496839680, unit=\"s\")\n",
    "tmp.to_pydatetime()\n"
   ]
  },
  {
   "cell_type": "code",
   "execution_count": 388,
   "metadata": {
    "scrolled": true
   },
   "outputs": [
    {
     "ename": "KeyboardInterrupt",
     "evalue": "",
     "output_type": "error",
     "traceback": [
      "\u001b[0;31m---------------------------------------------------------------------------\u001b[0m",
      "\u001b[0;31mKeyboardInterrupt\u001b[0m                         Traceback (most recent call last)",
      "\u001b[0;32m<ipython-input-388-6853a50ad872>\u001b[0m in \u001b[0;36m<module>\u001b[0;34m()\u001b[0m\n\u001b[1;32m     24\u001b[0m \u001b[0;34m\u001b[0m\u001b[0m\n\u001b[1;32m     25\u001b[0m \u001b[0;34m\u001b[0m\u001b[0m\n\u001b[0;32m---> 26\u001b[0;31m \u001b[0mdata_extract\u001b[0m\u001b[0;34m(\u001b[0m\u001b[0murl\u001b[0m\u001b[0;34m)\u001b[0m\u001b[0;34m\u001b[0m\u001b[0m\n\u001b[0m",
      "\u001b[0;32m<ipython-input-388-6853a50ad872>\u001b[0m in \u001b[0;36mdata_extract\u001b[0;34m(url)\u001b[0m\n\u001b[1;32m     21\u001b[0m         \u001b[0;31m#display(df)\u001b[0m\u001b[0;34m\u001b[0m\u001b[0;34m\u001b[0m\u001b[0m\n\u001b[1;32m     22\u001b[0m         \u001b[0mr\u001b[0m\u001b[0;34m.\u001b[0m\u001b[0mdb\u001b[0m\u001b[0;34m(\u001b[0m\u001b[0;34m\"COIN_PRICES\"\u001b[0m\u001b[0;34m)\u001b[0m\u001b[0;34m.\u001b[0m\u001b[0mtable\u001b[0m\u001b[0;34m(\u001b[0m\u001b[0;34m\"BTCUSD\"\u001b[0m\u001b[0;34m)\u001b[0m\u001b[0;34m.\u001b[0m\u001b[0minsert\u001b[0m\u001b[0;34m(\u001b[0m\u001b[0murl_output\u001b[0m\u001b[0;34m)\u001b[0m\u001b[0;34m.\u001b[0m\u001b[0mrun\u001b[0m\u001b[0;34m(\u001b[0m\u001b[0;34m)\u001b[0m\u001b[0;34m\u001b[0m\u001b[0m\n\u001b[0;32m---> 23\u001b[0;31m         \u001b[0mtime\u001b[0m\u001b[0;34m.\u001b[0m\u001b[0msleep\u001b[0m\u001b[0;34m(\u001b[0m\u001b[0;36m60\u001b[0m\u001b[0;34m)\u001b[0m\u001b[0;34m\u001b[0m\u001b[0m\n\u001b[0m\u001b[1;32m     24\u001b[0m \u001b[0;34m\u001b[0m\u001b[0m\n\u001b[1;32m     25\u001b[0m \u001b[0;34m\u001b[0m\u001b[0m\n",
      "\u001b[0;31mKeyboardInterrupt\u001b[0m: "
     ]
    }
   ],
   "source": [
    "import time\n",
    "import datetime\n",
    "import requests\n",
    "import rethinkdb as r\n",
    "import pandas as pd\n",
    "\n",
    "r.connect( \"localhost\", 28015).repl()\n",
    "\n",
    "url = 'https://min-api.cryptocompare.com/data/histominute?fsym=BTC&tsym=USD&limit=10&aggregate=0&e=Kraken'\n",
    "def data_extract(url):\n",
    "    l1 = list()\n",
    "    while True:\n",
    "        url_output = requests.get(url).json()['Data']\n",
    "        url_output[0]['time'] = datetime.datetime.isoformat(datetime.datetime.fromtimestamp(url_output[0]['time']))\n",
    "        url_output[1]['time'] = datetime.datetime.isoformat(datetime.datetime.fromtimestamp(url_output[1]['time']))\n",
    "        #df = pd.DataFrame(url_output)\n",
    "        #df.time = pd.to_datetime(df.time, unit='s')\n",
    "\n",
    "        \n",
    "\n",
    "        #display(df)\n",
    "        r.db(\"COIN_PRICES\").table(\"BTCUSD\").insert(url_output).run()\n",
    "        time.sleep(60)\n",
    "        \n",
    "\n",
    "data_extract(url)  "
   ]
  },
  {
   "cell_type": "code",
   "execution_count": 364,
   "metadata": {
    "scrolled": true
   },
   "outputs": [
    {
     "name": "stderr",
     "output_type": "stream",
     "text": [
      "/home/yol/miniconda3/envs/tensorflow/lib/python3.5/site-packages/ipykernel_launcher.py:13: FutureWarning: sort(columns=....) is deprecated, use sort_values(by=.....)\n",
      "  del sys.path[0]\n"
     ]
    },
    {
     "data": {
      "text/html": [
       "<div>\n",
       "<table border=\"1\" class=\"dataframe\">\n",
       "  <thead>\n",
       "    <tr style=\"text-align: right;\">\n",
       "      <th></th>\n",
       "      <th>close</th>\n",
       "      <th>high</th>\n",
       "      <th>id</th>\n",
       "      <th>low</th>\n",
       "      <th>open</th>\n",
       "      <th>time</th>\n",
       "      <th>volumefrom</th>\n",
       "      <th>volumeto</th>\n",
       "    </tr>\n",
       "  </thead>\n",
       "  <tbody>\n",
       "    <tr>\n",
       "      <th>0</th>\n",
       "      <td>2619.02</td>\n",
       "      <td>2619.88</td>\n",
       "      <td>2678d150-65ad-4cb9-b6ba-47cd042aa6bc</td>\n",
       "      <td>2616.29</td>\n",
       "      <td>2616.29</td>\n",
       "      <td>2017-06-13T00:12:00</td>\n",
       "      <td>3.417760</td>\n",
       "      <td>8957.04</td>\n",
       "    </tr>\n",
       "    <tr>\n",
       "      <th>0</th>\n",
       "      <td>2617.55</td>\n",
       "      <td>2617.55</td>\n",
       "      <td>f9a5ae5f-31f3-4213-ac66-ef40152f7bb1</td>\n",
       "      <td>2616.29</td>\n",
       "      <td>2616.29</td>\n",
       "      <td>2017-06-13T00:12:00</td>\n",
       "      <td>0.005262</td>\n",
       "      <td>13.77</td>\n",
       "    </tr>\n",
       "    <tr>\n",
       "      <th>0</th>\n",
       "      <td>2619.88</td>\n",
       "      <td>2617.55</td>\n",
       "      <td>288172c7-834b-4b7a-b742-eec54d1027d8</td>\n",
       "      <td>2616.29</td>\n",
       "      <td>2616.29</td>\n",
       "      <td>2017-06-13T00:12:00</td>\n",
       "      <td>0.455960</td>\n",
       "      <td>1193.45</td>\n",
       "    </tr>\n",
       "    <tr>\n",
       "      <th>0</th>\n",
       "      <td>2617.56</td>\n",
       "      <td>2619.88</td>\n",
       "      <td>57d3eefb-c032-48f4-bf02-ae7490925274</td>\n",
       "      <td>2616.29</td>\n",
       "      <td>2616.29</td>\n",
       "      <td>2017-06-13T00:12:00</td>\n",
       "      <td>2.742560</td>\n",
       "      <td>7189.41</td>\n",
       "    </tr>\n",
       "    <tr>\n",
       "      <th>0</th>\n",
       "      <td>2618.00</td>\n",
       "      <td>2619.02</td>\n",
       "      <td>465f1a93-d22a-46c2-a4b3-7862a2a1cc3c</td>\n",
       "      <td>2618.67</td>\n",
       "      <td>2619.02</td>\n",
       "      <td>2017-06-13T00:15:00</td>\n",
       "      <td>0.004300</td>\n",
       "      <td>11.26</td>\n",
       "    </tr>\n",
       "  </tbody>\n",
       "</table>\n",
       "</div>"
      ],
      "text/plain": [
       "     close     high                                    id      low     open  \\\n",
       "0  2619.02  2619.88  2678d150-65ad-4cb9-b6ba-47cd042aa6bc  2616.29  2616.29   \n",
       "0  2617.55  2617.55  f9a5ae5f-31f3-4213-ac66-ef40152f7bb1  2616.29  2616.29   \n",
       "0  2619.88  2617.55  288172c7-834b-4b7a-b742-eec54d1027d8  2616.29  2616.29   \n",
       "0  2617.56  2619.88  57d3eefb-c032-48f4-bf02-ae7490925274  2616.29  2616.29   \n",
       "0  2618.00  2619.02  465f1a93-d22a-46c2-a4b3-7862a2a1cc3c  2618.67  2619.02   \n",
       "\n",
       "                  time  volumefrom  volumeto  \n",
       "0  2017-06-13T00:12:00    3.417760   8957.04  \n",
       "0  2017-06-13T00:12:00    0.005262     13.77  \n",
       "0  2017-06-13T00:12:00    0.455960   1193.45  \n",
       "0  2017-06-13T00:12:00    2.742560   7189.41  \n",
       "0  2017-06-13T00:15:00    0.004300     11.26  "
      ]
     },
     "execution_count": 364,
     "metadata": {},
     "output_type": "execute_result"
    }
   ],
   "source": [
    "from IPython.display import display\n",
    "import numpy as np\n",
    "np.set_printoptions(suppress=True)\n",
    "from_db = r.db(\"COIN_PRICES\").table(\"BTCUSD\").run()\n",
    "df_from_db = pd.DataFrame()\n",
    "for i in from_db:\n",
    "\n",
    "    df_from_db = df_from_db.append(pd.io.json.json_normalize(i))\n",
    "\n",
    "#df_from_db.time = pd.to_datetime(df_from_db.time, unit='s')\n",
    "# df_from_db.set_index(df_from_db.time, inplace=True)\n",
    "# df_from_db.drop(['time'],inplace=True)\n",
    "df_from_db.sort(columns='time').tail()"
   ]
  },
  {
   "cell_type": "markdown",
   "metadata": {},
   "source": [
    "### ThinkDB delete statement"
   ]
  },
  {
   "cell_type": "code",
   "execution_count": 389,
   "metadata": {},
   "outputs": [
    {
     "data": {
      "text/plain": [
       "{'deleted': 33,\n",
       " 'errors': 0,\n",
       " 'inserted': 0,\n",
       " 'replaced': 0,\n",
       " 'skipped': 0,\n",
       " 'unchanged': 0}"
      ]
     },
     "execution_count": 389,
     "metadata": {},
     "output_type": "execute_result"
    }
   ],
   "source": [
    "r.db(\"COIN_PRICES\").table(\"BTCUSD\").delete().run()"
   ]
  },
  {
   "cell_type": "code",
   "execution_count": 395,
   "metadata": {
    "scrolled": true
   },
   "outputs": [
    {
     "ename": "TypeError",
     "evalue": "'int' object is not iterable",
     "output_type": "error",
     "traceback": [
      "\u001b[0;31m---------------------------------------------------------------------------\u001b[0m",
      "\u001b[0;31mTypeError\u001b[0m                                 Traceback (most recent call last)",
      "\u001b[0;32m<ipython-input-395-21893c62962b>\u001b[0m in \u001b[0;36m<module>\u001b[0;34m()\u001b[0m\n\u001b[1;32m     26\u001b[0m \u001b[0;34m\u001b[0m\u001b[0m\n\u001b[1;32m     27\u001b[0m \u001b[0;34m\u001b[0m\u001b[0m\n\u001b[0;32m---> 28\u001b[0;31m \u001b[0mdata_extract\u001b[0m\u001b[0;34m(\u001b[0m\u001b[0murl\u001b[0m\u001b[0;34m)\u001b[0m\u001b[0;34m\u001b[0m\u001b[0m\n\u001b[0m",
      "\u001b[0;32m<ipython-input-395-21893c62962b>\u001b[0m in \u001b[0;36mdata_extract\u001b[0;34m(url)\u001b[0m\n\u001b[1;32m     13\u001b[0m         \u001b[0mlimit\u001b[0m \u001b[0;34m=\u001b[0m \u001b[0;36m10\u001b[0m\u001b[0;34m\u001b[0m\u001b[0m\n\u001b[1;32m     14\u001b[0m         \u001b[0murl_output\u001b[0m \u001b[0;34m=\u001b[0m \u001b[0mrequests\u001b[0m\u001b[0;34m.\u001b[0m\u001b[0mget\u001b[0m\u001b[0;34m(\u001b[0m\u001b[0murl\u001b[0m\u001b[0;34m)\u001b[0m\u001b[0;34m.\u001b[0m\u001b[0mjson\u001b[0m\u001b[0;34m(\u001b[0m\u001b[0;34m)\u001b[0m\u001b[0;34m[\u001b[0m\u001b[0;34m'Data'\u001b[0m\u001b[0;34m]\u001b[0m\u001b[0;34m\u001b[0m\u001b[0m\n\u001b[0;32m---> 15\u001b[0;31m         \u001b[0;32mfor\u001b[0m \u001b[0mi\u001b[0m \u001b[0;32min\u001b[0m \u001b[0mlimit\u001b[0m\u001b[0;34m:\u001b[0m\u001b[0;34m\u001b[0m\u001b[0m\n\u001b[0m\u001b[1;32m     16\u001b[0m             \u001b[0murl_output\u001b[0m\u001b[0;34m[\u001b[0m\u001b[0mi\u001b[0m\u001b[0;34m]\u001b[0m\u001b[0;34m[\u001b[0m\u001b[0;34m'time'\u001b[0m\u001b[0;34m]\u001b[0m \u001b[0;34m=\u001b[0m \u001b[0mdatetime\u001b[0m\u001b[0;34m.\u001b[0m\u001b[0mdatetime\u001b[0m\u001b[0;34m.\u001b[0m\u001b[0misoformat\u001b[0m\u001b[0;34m(\u001b[0m\u001b[0mdatetime\u001b[0m\u001b[0;34m.\u001b[0m\u001b[0mdatetime\u001b[0m\u001b[0;34m.\u001b[0m\u001b[0mfromtimestamp\u001b[0m\u001b[0;34m(\u001b[0m\u001b[0murl_output\u001b[0m\u001b[0;34m[\u001b[0m\u001b[0mi\u001b[0m\u001b[0;34m]\u001b[0m\u001b[0;34m[\u001b[0m\u001b[0;34m'time'\u001b[0m\u001b[0;34m]\u001b[0m\u001b[0;34m)\u001b[0m\u001b[0;34m)\u001b[0m\u001b[0;34m\u001b[0m\u001b[0m\n\u001b[1;32m     17\u001b[0m \u001b[0;31m#         url_output[1]['time'] = datetime.datetime.isoformat(datetime.datetime.fromtimestamp(url_output[1]['time']))\u001b[0m\u001b[0;34m\u001b[0m\u001b[0;34m\u001b[0m\u001b[0m\n",
      "\u001b[0;31mTypeError\u001b[0m: 'int' object is not iterable"
     ]
    }
   ],
   "source": [
    "import time\n",
    "import datetime\n",
    "import requests\n",
    "import rethinkdb as r\n",
    "import pandas as pd\n",
    "\n",
    "r.connect( \"localhost\", 28015).repl()\n",
    "\n",
    "url = 'https://min-api.cryptocompare.com/data/histohour?fsym=BTC&tsym=USD&limit=10&aggregate=0&e=Kraken'\n",
    "def data_extract(url):\n",
    "\n",
    "    while True:\n",
    "        limit = 10\n",
    "        url_output = requests.get(url).json()['Data']\n",
    "        for i in limit:\n",
    "            url_output[i]['time'] = datetime.datetime.isoformat(datetime.datetime.fromtimestamp(url_output[i]['time']))\n",
    "#         url_output[1]['time'] = datetime.datetime.isoformat(datetime.datetime.fromtimestamp(url_output[1]['time']))\n",
    "        #df = pd.DataFrame(url_output)\n",
    "        #df.time = pd.to_datetime(df.time, unit='s')\n",
    "\n",
    "        \n",
    "\n",
    "        #display(df)\n",
    "            r.db(\"COIN_PRICES\").table(\"BTCUSD\").insert(url_output[i]['time']).run()\n",
    "\n",
    "        \n",
    "\n",
    "data_extract(url)  "
   ]
  },
  {
   "cell_type": "code",
   "execution_count": 379,
   "metadata": {},
   "outputs": [
    {
     "ename": "ValueError",
     "evalue": "Expected object or value",
     "output_type": "error",
     "traceback": [
      "\u001b[0;31m---------------------------------------------------------------------------\u001b[0m",
      "\u001b[0;31mValueError\u001b[0m                                Traceback (most recent call last)",
      "\u001b[0;32m<ipython-input-379-f2c8df8419c7>\u001b[0m in \u001b[0;36m<module>\u001b[0;34m()\u001b[0m\n\u001b[0;32m----> 1\u001b[0;31m \u001b[0mpd\u001b[0m\u001b[0;34m.\u001b[0m\u001b[0mread_json\u001b[0m\u001b[0;34m(\u001b[0m\u001b[0;34m'https://bitcoincharts.com/charts/coinbaseUSD#rg60ztgSzm1g10zm2g25zv'\u001b[0m\u001b[0;34m)\u001b[0m\u001b[0;34m\u001b[0m\u001b[0m\n\u001b[0m",
      "\u001b[0;32m/home/yol/miniconda3/envs/tensorflow/lib/python3.5/site-packages/pandas/io/json.py\u001b[0m in \u001b[0;36mread_json\u001b[0;34m(path_or_buf, orient, typ, dtype, convert_axes, convert_dates, keep_default_dates, numpy, precise_float, date_unit, encoding, lines)\u001b[0m\n\u001b[1;32m    279\u001b[0m         obj = FrameParser(json, orient, dtype, convert_axes, convert_dates,\n\u001b[1;32m    280\u001b[0m                           \u001b[0mkeep_default_dates\u001b[0m\u001b[0;34m,\u001b[0m \u001b[0mnumpy\u001b[0m\u001b[0;34m,\u001b[0m \u001b[0mprecise_float\u001b[0m\u001b[0;34m,\u001b[0m\u001b[0;34m\u001b[0m\u001b[0m\n\u001b[0;32m--> 281\u001b[0;31m                           date_unit).parse()\n\u001b[0m\u001b[1;32m    282\u001b[0m \u001b[0;34m\u001b[0m\u001b[0m\n\u001b[1;32m    283\u001b[0m     \u001b[0;32mif\u001b[0m \u001b[0mtyp\u001b[0m \u001b[0;34m==\u001b[0m \u001b[0;34m'series'\u001b[0m \u001b[0;32mor\u001b[0m \u001b[0mobj\u001b[0m \u001b[0;32mis\u001b[0m \u001b[0;32mNone\u001b[0m\u001b[0;34m:\u001b[0m\u001b[0;34m\u001b[0m\u001b[0m\n",
      "\u001b[0;32m/home/yol/miniconda3/envs/tensorflow/lib/python3.5/site-packages/pandas/io/json.py\u001b[0m in \u001b[0;36mparse\u001b[0;34m(self)\u001b[0m\n\u001b[1;32m    347\u001b[0m \u001b[0;34m\u001b[0m\u001b[0m\n\u001b[1;32m    348\u001b[0m         \u001b[0;32melse\u001b[0m\u001b[0;34m:\u001b[0m\u001b[0;34m\u001b[0m\u001b[0m\n\u001b[0;32m--> 349\u001b[0;31m             \u001b[0mself\u001b[0m\u001b[0;34m.\u001b[0m\u001b[0m_parse_no_numpy\u001b[0m\u001b[0;34m(\u001b[0m\u001b[0;34m)\u001b[0m\u001b[0;34m\u001b[0m\u001b[0m\n\u001b[0m\u001b[1;32m    350\u001b[0m \u001b[0;34m\u001b[0m\u001b[0m\n\u001b[1;32m    351\u001b[0m         \u001b[0;32mif\u001b[0m \u001b[0mself\u001b[0m\u001b[0;34m.\u001b[0m\u001b[0mobj\u001b[0m \u001b[0;32mis\u001b[0m \u001b[0;32mNone\u001b[0m\u001b[0;34m:\u001b[0m\u001b[0;34m\u001b[0m\u001b[0m\n",
      "\u001b[0;32m/home/yol/miniconda3/envs/tensorflow/lib/python3.5/site-packages/pandas/io/json.py\u001b[0m in \u001b[0;36m_parse_no_numpy\u001b[0;34m(self)\u001b[0m\n\u001b[1;32m    564\u001b[0m         \u001b[0;32mif\u001b[0m \u001b[0morient\u001b[0m \u001b[0;34m==\u001b[0m \u001b[0;34m\"columns\"\u001b[0m\u001b[0;34m:\u001b[0m\u001b[0;34m\u001b[0m\u001b[0m\n\u001b[1;32m    565\u001b[0m             self.obj = DataFrame(\n\u001b[0;32m--> 566\u001b[0;31m                 loads(json, precise_float=self.precise_float), dtype=None)\n\u001b[0m\u001b[1;32m    567\u001b[0m         \u001b[0;32melif\u001b[0m \u001b[0morient\u001b[0m \u001b[0;34m==\u001b[0m \u001b[0;34m\"split\"\u001b[0m\u001b[0;34m:\u001b[0m\u001b[0;34m\u001b[0m\u001b[0m\n\u001b[1;32m    568\u001b[0m             decoded = dict((str(k), v)\n",
      "\u001b[0;31mValueError\u001b[0m: Expected object or value"
     ]
    }
   ],
   "source": [
    "pd.read_json('https://bitcoincharts.com/charts/coinbaseUSD#rg60ztgSzm1g10zm2g25zv')"
   ]
  },
  {
   "cell_type": "code",
   "execution_count": null,
   "metadata": {
    "collapsed": true
   },
   "outputs": [],
   "source": []
  },
  {
   "cell_type": "code",
   "execution_count": null,
   "metadata": {
    "collapsed": true
   },
   "outputs": [],
   "source": []
  },
  {
   "cell_type": "code",
   "execution_count": null,
   "metadata": {
    "collapsed": true
   },
   "outputs": [],
   "source": []
  },
  {
   "cell_type": "code",
   "execution_count": 109,
   "metadata": {},
   "outputs": [
    {
     "ename": "NameError",
     "evalue": "name 'Timestamp' is not defined",
     "output_type": "error",
     "traceback": [
      "\u001b[0;31m---------------------------------------------------------------------------\u001b[0m",
      "\u001b[0;31mNameError\u001b[0m                                 Traceback (most recent call last)",
      "\u001b[0;32m<ipython-input-109-b142d53ad9c6>\u001b[0m in \u001b[0;36m<module>\u001b[0;34m()\u001b[0m\n\u001b[0;32m----> 1\u001b[0;31m \u001b[0mr\u001b[0m\u001b[0;34m.\u001b[0m\u001b[0mdb\u001b[0m\u001b[0;34m(\u001b[0m\u001b[0;34m\"COIN_PRICES\"\u001b[0m\u001b[0;34m)\u001b[0m\u001b[0;34m.\u001b[0m\u001b[0mtable\u001b[0m\u001b[0;34m(\u001b[0m\u001b[0;34m\"BTCUSD\"\u001b[0m\u001b[0;34m)\u001b[0m\u001b[0;34m.\u001b[0m\u001b[0minsert\u001b[0m\u001b[0;34m(\u001b[0m\u001b[0;34m[\u001b[0m\u001b[0;34m{\u001b[0m\u001b[0;34m'open'\u001b[0m\u001b[0;34m:\u001b[0m \u001b[0;34m{\u001b[0m\u001b[0;36m0\u001b[0m\u001b[0;34m:\u001b[0m \u001b[0;36m233.56\u001b[0m\u001b[0;34m,\u001b[0m \u001b[0;36m1\u001b[0m\u001b[0;34m:\u001b[0m \u001b[0;36m234.5\u001b[0m\u001b[0;34m}\u001b[0m\u001b[0;34m,\u001b[0m \u001b[0;34m'high'\u001b[0m\u001b[0;34m:\u001b[0m \u001b[0;34m{\u001b[0m\u001b[0;36m0\u001b[0m\u001b[0;34m:\u001b[0m \u001b[0;36m234.69\u001b[0m\u001b[0;34m,\u001b[0m \u001b[0;36m1\u001b[0m\u001b[0;34m:\u001b[0m \u001b[0;36m234.69\u001b[0m\u001b[0;34m}\u001b[0m\u001b[0;34m,\u001b[0m \u001b[0;34m'low'\u001b[0m\u001b[0;34m:\u001b[0m \u001b[0;34m{\u001b[0m\u001b[0;36m0\u001b[0m\u001b[0;34m:\u001b[0m \u001b[0;36m233.56\u001b[0m\u001b[0;34m,\u001b[0m \u001b[0;36m1\u001b[0m\u001b[0;34m:\u001b[0m \u001b[0;36m233.69999999999999\u001b[0m\u001b[0;34m}\u001b[0m\u001b[0;34m,\u001b[0m \u001b[0;34m'volumeto'\u001b[0m\u001b[0;34m:\u001b[0m \u001b[0;34m{\u001b[0m\u001b[0;36m0\u001b[0m\u001b[0;34m:\u001b[0m \u001b[0;36m81662.179999999993\u001b[0m\u001b[0;34m,\u001b[0m \u001b[0;36m1\u001b[0m\u001b[0;34m:\u001b[0m \u001b[0;36m3931.9800000000005\u001b[0m\u001b[0;34m}\u001b[0m\u001b[0;34m,\u001b[0m \u001b[0;34m'volumefrom'\u001b[0m\u001b[0;34m:\u001b[0m \u001b[0;34m{\u001b[0m\u001b[0;36m0\u001b[0m\u001b[0;34m:\u001b[0m \u001b[0;36m348.12\u001b[0m\u001b[0;34m,\u001b[0m \u001b[0;36m1\u001b[0m\u001b[0;34m:\u001b[0m \u001b[0;36m16.759999999999998\u001b[0m\u001b[0;34m}\u001b[0m\u001b[0;34m,\u001b[0m \u001b[0;34m'time'\u001b[0m\u001b[0;34m:\u001b[0m \u001b[0;34m{\u001b[0m\u001b[0;36m0\u001b[0m\u001b[0;34m:\u001b[0m \u001b[0mTimestamp\u001b[0m\u001b[0;34m(\u001b[0m\u001b[0;34m'2017-06-07 13:45:00'\u001b[0m\u001b[0;34m)\u001b[0m\u001b[0;34m,\u001b[0m \u001b[0;36m1\u001b[0m\u001b[0;34m:\u001b[0m \u001b[0mTimestamp\u001b[0m\u001b[0;34m(\u001b[0m\u001b[0;34m'2017-06-07 13:48:00'\u001b[0m\u001b[0;34m)\u001b[0m\u001b[0;34m}\u001b[0m\u001b[0;34m,\u001b[0m \u001b[0;34m'close'\u001b[0m\u001b[0;34m:\u001b[0m \u001b[0;34m{\u001b[0m\u001b[0;36m0\u001b[0m\u001b[0;34m:\u001b[0m \u001b[0;36m234.5\u001b[0m\u001b[0;34m,\u001b[0m \u001b[0;36m1\u001b[0m\u001b[0;34m:\u001b[0m \u001b[0;36m234.68000000000001\u001b[0m\u001b[0;34m}\u001b[0m\u001b[0;34m}\u001b[0m\u001b[0;34m]\u001b[0m\u001b[0;34m)\u001b[0m\u001b[0;34m.\u001b[0m\u001b[0mrun\u001b[0m\u001b[0;34m(\u001b[0m\u001b[0;34m)\u001b[0m\u001b[0;34m\u001b[0m\u001b[0m\n\u001b[0m\u001b[1;32m      2\u001b[0m \u001b[0;34m\u001b[0m\u001b[0m\n",
      "\u001b[0;31mNameError\u001b[0m: name 'Timestamp' is not defined"
     ]
    }
   ],
   "source": [
    "r.db(\"COIN_PRICES\").table(\"BTCUSD\").insert([{'close': 235.4,\n",
    "  'high': 235.45,\n",
    "  'low': 235.01,\n",
    "  'open': 235.45,\n",
    "  'time': 1496839500,\n",
    "  'volumefrom': 74.81,\n",
    "  'volumeto': 17606.41},\n",
    " {'close': 234.59,\n",
    "  'high': 235.4,\n",
    "  'low': 234.59,\n",
    "  'open': 235.4,\n",
    "  'time': 1496839680,\n",
    "  'volumefrom': 38.21,\n",
    "  'volumeto': 8977.23}]).run()\n",
    "\n"
   ]
  },
  {
   "cell_type": "markdown",
   "metadata": {},
   "source": [
    "### MongoDB part"
   ]
  },
  {
   "cell_type": "code",
   "execution_count": 175,
   "metadata": {},
   "outputs": [
    {
     "data": {
      "text/plain": [
       "<pymongo.results.InsertManyResult at 0x7f39fc4a3b88>"
      ]
     },
     "execution_count": 175,
     "metadata": {},
     "output_type": "execute_result"
    }
   ],
   "source": [
    "from pymongo import MongoClient\n",
    "\n",
    "client = MongoClient()\n",
    "\n",
    "db = client.primer\n",
    "\n",
    "BTCUSD_PRICES = db.btcusd_prices\n",
    "\n",
    "BTCUSD_PRICES.insert_many([{'close': 0.4,\n",
    "  'high': 235.45,\n",
    "  'low': 235.01,\n",
    "  'open': 235.45,\n",
    "  'time': 1496839500,\n",
    "  'volumefrom': 74.81,\n",
    "  'volumeto': 17606.41},\n",
    " {'close': 1.59,\n",
    "  'high': 235.4,\n",
    "  'low': 234.59,\n",
    "  'open': 235.4,\n",
    "  'time': 1496839680,\n",
    "  'volumefrom': 38.21,\n",
    "  'volumeto': 8977.23}])"
   ]
  },
  {
   "cell_type": "code",
   "execution_count": 193,
   "metadata": {},
   "outputs": [
    {
     "data": {
      "text/plain": [
       "dtype('O')"
      ]
     },
     "execution_count": 193,
     "metadata": {},
     "output_type": "execute_result"
    }
   ],
   "source": [
    "df_from_db_m.time.dtype"
   ]
  },
  {
   "cell_type": "code",
   "execution_count": 195,
   "metadata": {
    "scrolled": true
   },
   "outputs": [
    {
     "name": "stdout",
     "output_type": "stream",
     "text": [
      "       close    high     low    open          time  volumefrom  volumeto\n",
      "count    1.0    1.00    1.00    1.00  1.000000e+00        1.00      1.00\n",
      "mean   235.4  235.45  235.01  235.45  1.496840e+09       74.81  17606.41\n",
      "std      NaN     NaN     NaN     NaN           NaN         NaN       NaN\n",
      "min    235.4  235.45  235.01  235.45  1.496840e+09       74.81  17606.41\n",
      "25%    235.4  235.45  235.01  235.45  1.496840e+09       74.81  17606.41\n",
      "50%    235.4  235.45  235.01  235.45  1.496840e+09       74.81  17606.41\n",
      "75%    235.4  235.45  235.01  235.45  1.496840e+09       74.81  17606.41\n",
      "max    235.4  235.45  235.01  235.45  1.496840e+09       74.81  17606.41\n",
      "       close    high     low    open          time  volumefrom  volumeto\n",
      "count    2.0    2.00    2.00    2.00  2.000000e+00        2.00      2.00\n",
      "mean   235.4  235.45  235.01  235.45  1.496840e+09       74.81  17606.41\n",
      "std      0.0    0.00    0.00    0.00  0.000000e+00        0.00      0.00\n",
      "min    235.4  235.45  235.01  235.45  1.496840e+09       74.81  17606.41\n",
      "25%    235.4  235.45  235.01  235.45  1.496840e+09       74.81  17606.41\n",
      "50%    235.4  235.45  235.01  235.45  1.496840e+09       74.81  17606.41\n",
      "75%    235.4  235.45  235.01  235.45  1.496840e+09       74.81  17606.41\n",
      "max    235.4  235.45  235.01  235.45  1.496840e+09       74.81  17606.41\n",
      "            close        high         low        open          time  \\\n",
      "count    3.000000    3.000000    3.000000    3.000000  3.000000e+00   \n",
      "mean   235.130000  235.433333  234.870000  235.433333  1.496840e+09   \n",
      "std      0.467654    0.028868    0.242487    0.028868  1.039230e+02   \n",
      "min    234.590000  235.400000  234.590000  235.400000  1.496840e+09   \n",
      "25%    234.995000  235.425000  234.800000  235.425000  1.496840e+09   \n",
      "50%    235.400000  235.450000  235.010000  235.450000  1.496840e+09   \n",
      "75%    235.400000  235.450000  235.010000  235.450000  1.496840e+09   \n",
      "max    235.400000  235.450000  235.010000  235.450000  1.496840e+09   \n",
      "\n",
      "       volumefrom      volumeto  \n",
      "count     3.00000      3.000000  \n",
      "mean     62.61000  14730.016667  \n",
      "std      21.13102   4982.059396  \n",
      "min      38.21000   8977.230000  \n",
      "25%      56.51000  13291.820000  \n",
      "50%      74.81000  17606.410000  \n",
      "75%      74.81000  17606.410000  \n",
      "max      74.81000  17606.410000  \n",
      "          close      high      low      open          time  volumefrom  \\\n",
      "count    4.0000    4.0000    4.000    4.0000  4.000000e+00        4.00   \n",
      "mean   235.1975  235.4375  234.905  235.4375  1.496840e+09       65.66   \n",
      "std      0.4050    0.0250    0.210    0.0250  9.000000e+01       18.30   \n",
      "min    234.5900  235.4000  234.590  235.4000  1.496840e+09       38.21   \n",
      "25%    235.1975  235.4375  234.905  235.4375  1.496840e+09       65.66   \n",
      "50%    235.4000  235.4500  235.010  235.4500  1.496840e+09       74.81   \n",
      "75%    235.4000  235.4500  235.010  235.4500  1.496840e+09       74.81   \n",
      "max    235.4000  235.4500  235.010  235.4500  1.496840e+09       74.81   \n",
      "\n",
      "        volumeto  \n",
      "count      4.000  \n",
      "mean   15449.115  \n",
      "std     4314.590  \n",
      "min     8977.230  \n",
      "25%    15449.115  \n",
      "50%    17606.410  \n",
      "75%    17606.410  \n",
      "max    17606.410  \n",
      "            close        high        low        open          time  \\\n",
      "count    5.000000    5.000000    5.00000    5.000000  5.000000e+00   \n",
      "mean   235.238000  235.440000  234.92600  235.440000  1.496840e+09   \n",
      "std      0.362243    0.022361    0.18783    0.022361  8.049845e+01   \n",
      "min    234.590000  235.400000  234.59000  235.400000  1.496840e+09   \n",
      "25%    235.400000  235.450000  235.01000  235.450000  1.496840e+09   \n",
      "50%    235.400000  235.450000  235.01000  235.450000  1.496840e+09   \n",
      "75%    235.400000  235.450000  235.01000  235.450000  1.496840e+09   \n",
      "max    235.400000  235.450000  235.01000  235.450000  1.496840e+09   \n",
      "\n",
      "       volumefrom      volumeto  \n",
      "count    5.000000      5.000000  \n",
      "mean    67.490000  15880.574000  \n",
      "std     16.368018   3859.086614  \n",
      "min     38.210000   8977.230000  \n",
      "25%     74.810000  17606.410000  \n",
      "50%     74.810000  17606.410000  \n",
      "75%     74.810000  17606.410000  \n",
      "max     74.810000  17606.410000  \n",
      "            close        high         low        open          time  \\\n",
      "count    6.000000    6.000000    6.000000    6.000000  6.000000e+00   \n",
      "mean   235.265000  235.441667  234.940000  235.441667  1.496840e+09   \n",
      "std      0.330681    0.020412    0.171464    0.020412  7.348469e+01   \n",
      "min    234.590000  235.400000  234.590000  235.400000  1.496840e+09   \n",
      "25%    235.400000  235.450000  235.010000  235.450000  1.496840e+09   \n",
      "50%    235.400000  235.450000  235.010000  235.450000  1.496840e+09   \n",
      "75%    235.400000  235.450000  235.010000  235.450000  1.496840e+09   \n",
      "max    235.400000  235.450000  235.010000  235.450000  1.496840e+09   \n",
      "\n",
      "       volumefrom      volumeto  \n",
      "count    6.000000      6.000000  \n",
      "mean    68.710000  16168.213333  \n",
      "std     14.941887   3522.847983  \n",
      "min     38.210000   8977.230000  \n",
      "25%     74.810000  17606.410000  \n",
      "50%     74.810000  17606.410000  \n",
      "75%     74.810000  17606.410000  \n",
      "max     74.810000  17606.410000  \n",
      "            close        high         low        open          time  \\\n",
      "count    7.000000    7.000000    7.000000    7.000000  7.000000e+00   \n",
      "mean   201.712857  235.442857  234.950000  235.442857  1.496840e+09   \n",
      "std     88.771139    0.018898    0.158745    0.018898  6.803361e+01   \n",
      "min      0.400000  235.400000  234.590000  235.400000  1.496840e+09   \n",
      "25%    234.995000  235.450000  235.010000  235.450000  1.496840e+09   \n",
      "50%    235.400000  235.450000  235.010000  235.450000  1.496840e+09   \n",
      "75%    235.400000  235.450000  235.010000  235.450000  1.496840e+09   \n",
      "max    235.400000  235.450000  235.010000  235.450000  1.496840e+09   \n",
      "\n",
      "       volumefrom      volumeto  \n",
      "count    7.000000      7.000000  \n",
      "mean    69.581429  16373.670000  \n",
      "std     13.833500   3261.523471  \n",
      "min     38.210000   8977.230000  \n",
      "25%     74.810000  17606.410000  \n",
      "50%     74.810000  17606.410000  \n",
      "75%     74.810000  17606.410000  \n",
      "max     74.810000  17606.410000  \n",
      "            close        high         low        open          time  \\\n",
      "count    8.000000    8.000000    8.000000    8.000000  8.000000e+00   \n",
      "mean   176.548750  235.443750  234.957500  235.443750  1.496840e+09   \n",
      "std    108.721728    0.017678    0.148492    0.017678  6.363961e+01   \n",
      "min      0.400000  235.400000  234.590000  235.400000  1.496840e+09   \n",
      "25%    176.042500  235.450000  235.010000  235.450000  1.496840e+09   \n",
      "50%    235.400000  235.450000  235.010000  235.450000  1.496840e+09   \n",
      "75%    235.400000  235.450000  235.010000  235.450000  1.496840e+09   \n",
      "max    235.400000  235.450000  235.010000  235.450000  1.496840e+09   \n",
      "\n",
      "       volumefrom      volumeto  \n",
      "count    8.000000      8.000000  \n",
      "mean    70.235000  16527.762500  \n",
      "std     12.940054   3050.875847  \n",
      "min     38.210000   8977.230000  \n",
      "25%     74.810000  17606.410000  \n",
      "50%     74.810000  17606.410000  \n",
      "75%     74.810000  17606.410000  \n",
      "max     74.810000  17606.410000  \n",
      "            close        high         low        open          time  \\\n",
      "count    9.000000    9.000000    9.000000    9.000000  9.000000e+00   \n",
      "mean   156.976667  235.444444  234.963333  235.444444  1.496840e+09   \n",
      "std    117.432791    0.016667    0.140000    0.016667  6.000000e+01   \n",
      "min      0.400000  235.400000  234.590000  235.400000  1.496840e+09   \n",
      "25%      0.400000  235.450000  235.010000  235.450000  1.496840e+09   \n",
      "50%    235.400000  235.450000  235.010000  235.450000  1.496840e+09   \n",
      "75%    235.400000  235.450000  235.010000  235.450000  1.496840e+09   \n",
      "max    235.400000  235.450000  235.010000  235.450000  1.496840e+09   \n",
      "\n",
      "       volumefrom      volumeto  \n",
      "count    9.000000      9.000000  \n",
      "mean    70.743333  16647.612222  \n",
      "std     12.200000   2876.393333  \n",
      "min     38.210000   8977.230000  \n",
      "25%     74.810000  17606.410000  \n",
      "50%     74.810000  17606.410000  \n",
      "75%     74.810000  17606.410000  \n",
      "max     74.810000  17606.410000  \n",
      "            close        high         low        open          time  \\\n",
      "count   10.000000   10.000000   10.000000   10.000000  1.000000e+01   \n",
      "mean   141.438000  235.440000  234.926000  235.440000  1.496840e+09   \n",
      "std    121.130874    0.021082    0.177088    0.021082  7.589466e+01   \n",
      "min      0.400000  235.400000  234.590000  235.400000  1.496840e+09   \n",
      "25%      0.697500  235.450000  235.010000  235.450000  1.496840e+09   \n",
      "50%    234.995000  235.450000  235.010000  235.450000  1.496840e+09   \n",
      "75%    235.400000  235.450000  235.010000  235.450000  1.496840e+09   \n",
      "max    235.400000  235.450000  235.010000  235.450000  1.496840e+09   \n",
      "\n",
      "       volumefrom      volumeto  \n",
      "count   10.000000     10.000000  \n",
      "mean    67.490000  15880.574000  \n",
      "std     15.431915   3638.381752  \n",
      "min     38.210000   8977.230000  \n",
      "25%     74.810000  17606.410000  \n",
      "50%     74.810000  17606.410000  \n",
      "75%     74.810000  17606.410000  \n",
      "max     74.810000  17606.410000  \n"
     ]
    },
    {
     "data": {
      "text/plain": [
       "count    1.000000e+01\n",
       "mean     1.496840e+09\n",
       "std      7.589466e+01\n",
       "min      1.496840e+09\n",
       "25%      1.496840e+09\n",
       "50%      1.496840e+09\n",
       "75%      1.496840e+09\n",
       "max      1.496840e+09\n",
       "Name: time, dtype: float64"
      ]
     },
     "execution_count": 195,
     "metadata": {},
     "output_type": "execute_result"
    }
   ],
   "source": [
    "df_from_db_m = pd.DataFrame()\n",
    "for i in BTCUSD_PRICES.find():\n",
    "    #display(pd.io.json.json_normalize(i))\n",
    "    df_from_db_m = df_from_db_m.append(pd.io.json.json_normalize(i))\n",
    "    print(df_from_db_m.describe())\n",
    "    #df_from_db_m['time'] = pd.to_datetime(df_from_db_m['time'].astype(int), unit=\"s\")\n",
    "    \n",
    "df_from_db_m.time.describe()\n",
    "    "
   ]
  }
 ],
 "metadata": {
  "kernelspec": {
   "display_name": "Python 3",
   "language": "python",
   "name": "python3"
  },
  "language_info": {
   "codemirror_mode": {
    "name": "ipython",
    "version": 3
   },
   "file_extension": ".py",
   "mimetype": "text/x-python",
   "name": "python",
   "nbconvert_exporter": "python",
   "pygments_lexer": "ipython3",
   "version": "3.5.3"
  }
 },
 "nbformat": 4,
 "nbformat_minor": 2
}
