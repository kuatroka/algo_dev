{
 "cells": [
  {
   "cell_type": "code",
   "execution_count": 21,
   "metadata": {
    "scrolled": true
   },
   "outputs": [
    {
     "name": "stdout",
     "output_type": "stream",
     "text": [
      "24h_volume_usd contains 54 NaN\n",
      "last_updated contains 2 NaN\n",
      "market_cap_usd contains 186 NaN\n",
      "percent_change_24h contains 47 NaN\n",
      "price_btc contains 2 NaN\n",
      "price_usd contains 2 NaN\n",
      "no NaN\n"
     ]
    },
    {
     "data": {
      "text/plain": [
       "'1496442561'"
      ]
     },
     "execution_count": 21,
     "metadata": {},
     "output_type": "execute_result"
    }
   ],
   "source": [
    "import json\n",
    "import pandas as pd\n",
    "from coinmarketcap import Market\n",
    "# function that checks for NaN in a pandas df\n",
    "def check_nan(df):\n",
    "    count = 0\n",
    "    for i,j in enumerate(df.isnull().sum()):\n",
    "        if j != 0:\n",
    "            print(df.columns[i], \"contains {} NaN\".format(j))\n",
    "            count += 1\n",
    "    if count == 0:\n",
    "        print(\"no NaN\")\n",
    "\n",
    "\n",
    "coinmarketcap = Market()\n",
    "# the output of below call is byte so we need to convert it to str\n",
    "a = coinmarketcap.ticker()\n",
    "# conversion bytecode to str\n",
    "json_thing = a.decode()\n",
    "json_thing = json.loads(json_thing)\n",
    "df = pd.DataFrame(json_thing)\n",
    "df.last_updated = pd.to_datetime(df.last_updated, unit='s')\n",
    "del df['available_supply']\n",
    "del df['id']\n",
    "del df['percent_change_1h']\n",
    "del df['percent_change_7d']\n",
    "del df['name']\n",
    "del df['total_supply']\n",
    "\n",
    "df = df[['24h_volume_usd', 'symbol', 'last_updated', 'market_cap_usd',\n",
    "       'percent_change_24h', 'price_btc', 'price_usd', 'rank']]\n",
    "check_nan(df)\n",
    "df.dropna(inplace=True)\n",
    "check_nan(df)\n",
    "# df.sort_values('24h_volume_usd', ascending=False, inplace=True)\n",
    "json_thing[3]['last_updated']"
   ]
  },
  {
   "cell_type": "code",
   "execution_count": 31,
   "metadata": {},
   "outputs": [
    {
     "ename": "KeyError",
     "evalue": "'TimeFrom'",
     "output_type": "error",
     "traceback": [
      "\u001b[0;31m---------------------------------------------------------------------------\u001b[0m",
      "\u001b[0;31mKeyError\u001b[0m                                  Traceback (most recent call last)",
      "\u001b[0;32m<ipython-input-31-6494b4c79204>\u001b[0m in \u001b[0;36m<module>\u001b[0;34m()\u001b[0m\n\u001b[1;32m      1\u001b[0m \u001b[0;32mimport\u001b[0m \u001b[0mdatetime\u001b[0m\u001b[0;34m\u001b[0m\u001b[0m\n\u001b[0;32m----> 2\u001b[0;31m \u001b[0mprint\u001b[0m\u001b[0;34m(\u001b[0m\u001b[0;34m\"Date From\"\u001b[0m\u001b[0;34m,\u001b[0m\u001b[0mdatetime\u001b[0m\u001b[0;34m.\u001b[0m\u001b[0mdatetime\u001b[0m\u001b[0;34m.\u001b[0m\u001b[0mfromtimestamp\u001b[0m\u001b[0;34m(\u001b[0m\u001b[0mr\u001b[0m\u001b[0;34m.\u001b[0m\u001b[0mjson\u001b[0m\u001b[0;34m(\u001b[0m\u001b[0;34m)\u001b[0m\u001b[0;34m[\u001b[0m\u001b[0;34m'TimeFrom'\u001b[0m\u001b[0;34m]\u001b[0m\u001b[0;34m)\u001b[0m\u001b[0;34m)\u001b[0m\u001b[0;34m\u001b[0m\u001b[0m\n\u001b[0m\u001b[1;32m      3\u001b[0m \u001b[0mprint\u001b[0m\u001b[0;34m(\u001b[0m\u001b[0;34m\"Date To\"\u001b[0m\u001b[0;34m,\u001b[0m \u001b[0mdatetime\u001b[0m\u001b[0;34m.\u001b[0m\u001b[0mdatetime\u001b[0m\u001b[0;34m.\u001b[0m\u001b[0mfromtimestamp\u001b[0m\u001b[0;34m(\u001b[0m\u001b[0mr\u001b[0m\u001b[0;34m.\u001b[0m\u001b[0mjson\u001b[0m\u001b[0;34m(\u001b[0m\u001b[0;34m)\u001b[0m\u001b[0;34m[\u001b[0m\u001b[0;34m'TimeTo'\u001b[0m\u001b[0;34m]\u001b[0m\u001b[0;34m)\u001b[0m\u001b[0;34m)\u001b[0m\u001b[0;34m\u001b[0m\u001b[0m\n\u001b[1;32m      4\u001b[0m \u001b[0;34m\u001b[0m\u001b[0m\n\u001b[1;32m      5\u001b[0m \u001b[0mdate_from\u001b[0m  \u001b[0;34m=\u001b[0m \u001b[0mdatetime\u001b[0m\u001b[0;34m.\u001b[0m\u001b[0mdatetime\u001b[0m\u001b[0;34m(\u001b[0m\u001b[0;36m2015\u001b[0m\u001b[0;34m,\u001b[0m \u001b[0;36m1\u001b[0m\u001b[0;34m,\u001b[0m \u001b[0;36m2\u001b[0m\u001b[0;34m,\u001b[0m \u001b[0;36m10\u001b[0m\u001b[0;34m,\u001b[0m \u001b[0;36m00\u001b[0m\u001b[0;34m,\u001b[0m \u001b[0;36m00\u001b[0m\u001b[0;34m)\u001b[0m\u001b[0;34m.\u001b[0m\u001b[0mtimestamp\u001b[0m\u001b[0;34m(\u001b[0m\u001b[0;34m)\u001b[0m\u001b[0;34m\u001b[0m\u001b[0m\n",
      "\u001b[0;31mKeyError\u001b[0m: 'TimeFrom'"
     ]
    }
   ],
   "source": [
    "import datetime\n",
    "print(\"Date From\",datetime.datetime.fromtimestamp(r.json()['TimeFrom']))\n",
    "print(\"Date To\", datetime.datetime.fromtimestamp(r.json()['TimeTo']))\n",
    "\n",
    "date_from  = datetime.datetime(2015, 1, 2, 10, 00, 00).timestamp()\n",
    "date_from"
   ]
  },
  {
   "cell_type": "code",
   "execution_count": 24,
   "metadata": {},
   "outputs": [
    {
     "data": {
      "text/plain": [
       "datetime.datetime(2015, 1, 2, 10, 59, 59)"
      ]
     },
     "execution_count": 24,
     "metadata": {},
     "output_type": "execute_result"
    }
   ],
   "source": [
    "datetime.datetime.fromtimestamp(1420196399)"
   ]
  },
  {
   "cell_type": "code",
   "execution_count": 28,
   "metadata": {},
   "outputs": [
    {
     "data": {
      "text/plain": [
       "1412996400.0"
      ]
     },
     "execution_count": 28,
     "metadata": {},
     "output_type": "execute_result"
    }
   ],
   "source": [
    "import datetime\n",
    "import time\n",
    "from dateutil import parser\n",
    "\n",
    "dt = parser.parse(\"2014-10-11 04:00:00\")\n",
    "time.mktime(dt.timetuple())"
   ]
  },
  {
   "cell_type": "code",
   "execution_count": 33,
   "metadata": {},
   "outputs": [
    {
     "data": {
      "text/plain": [
       "datetime.datetime(2014, 10, 11, 4, 0)"
      ]
     },
     "execution_count": 33,
     "metadata": {},
     "output_type": "execute_result"
    }
   ],
   "source": [
    "from dateutil import parser\n",
    "dt = parser.parse(\"2014-10-11 04:00:00\")\n",
    "dt"
   ]
  },
  {
   "cell_type": "code",
   "execution_count": 36,
   "metadata": {},
   "outputs": [
    {
     "data": {
      "text/plain": [
       "'https://min-api.cryptocompare.com/data/histominute?fsym=BTC&tsym=EUR&limit=1464&toTs=1393804800.0&e=Kraken'"
      ]
     },
     "execution_count": 36,
     "metadata": {},
     "output_type": "execute_result"
    }
   ],
   "source": [
    "r.json()\n",
    "url.format(minute_data, curr_from, curr_to, delta_in_hours, date_to_timestamp, exchange)"
   ]
  },
  {
   "cell_type": "markdown",
   "metadata": {},
   "source": [
    "### Historical data extraction with help of cryptocompare.com API\n",
    "https://www.cryptocompare.com/api/#introduction"
   ]
  },
  {
   "cell_type": "code",
   "execution_count": 56,
   "metadata": {},
   "outputs": [
    {
     "name": "stdout",
     "output_type": "stream",
     "text": [
      "2017-05-28 00:00:00\n",
      "2017-06-05 00:00:00\n",
      "There are 192 hrs or 8.00 days between the dates 2017-05-28 00:00:00 and 2017-06-05 00:00:00\n",
      "The Date To timestamp is 1496617200.0\n",
      "Prices from the exchange: Kraken\n",
      "##########################\n"
     ]
    },
    {
     "data": {
      "text/html": [
       "<div>\n",
       "<table border=\"1\" class=\"dataframe\">\n",
       "  <thead>\n",
       "    <tr style=\"text-align: right;\">\n",
       "      <th></th>\n",
       "      <th>close</th>\n",
       "      <th>high</th>\n",
       "      <th>low</th>\n",
       "      <th>open</th>\n",
       "      <th>volumefrom</th>\n",
       "      <th>volumeto</th>\n",
       "    </tr>\n",
       "    <tr>\n",
       "      <th>time</th>\n",
       "      <th></th>\n",
       "      <th></th>\n",
       "      <th></th>\n",
       "      <th></th>\n",
       "      <th></th>\n",
       "      <th></th>\n",
       "    </tr>\n",
       "  </thead>\n",
       "  <tbody>\n",
       "    <tr>\n",
       "      <th>2017-06-02 19:42:00</th>\n",
       "      <td>2163.31</td>\n",
       "      <td>2163.33</td>\n",
       "      <td>2162.02</td>\n",
       "      <td>2162.98</td>\n",
       "      <td>1.21</td>\n",
       "      <td>2618.12</td>\n",
       "    </tr>\n",
       "    <tr>\n",
       "      <th>2017-06-02 19:43:00</th>\n",
       "      <td>2162.98</td>\n",
       "      <td>2163.60</td>\n",
       "      <td>2162.04</td>\n",
       "      <td>2163.31</td>\n",
       "      <td>1.19</td>\n",
       "      <td>2568.62</td>\n",
       "    </tr>\n",
       "    <tr>\n",
       "      <th>2017-06-02 19:44:00</th>\n",
       "      <td>2166.93</td>\n",
       "      <td>2166.93</td>\n",
       "      <td>2162.98</td>\n",
       "      <td>2162.98</td>\n",
       "      <td>15.09</td>\n",
       "      <td>32694.33</td>\n",
       "    </tr>\n",
       "    <tr>\n",
       "      <th>2017-06-02 19:45:00</th>\n",
       "      <td>2163.00</td>\n",
       "      <td>2166.93</td>\n",
       "      <td>2163.00</td>\n",
       "      <td>2166.93</td>\n",
       "      <td>1.66</td>\n",
       "      <td>3595.69</td>\n",
       "    </tr>\n",
       "    <tr>\n",
       "      <th>2017-06-02 19:46:00</th>\n",
       "      <td>2157.73</td>\n",
       "      <td>2163.73</td>\n",
       "      <td>2157.73</td>\n",
       "      <td>2163.00</td>\n",
       "      <td>5.33</td>\n",
       "      <td>11533.73</td>\n",
       "    </tr>\n",
       "  </tbody>\n",
       "</table>\n",
       "</div>"
      ],
      "text/plain": [
       "                       close     high      low     open  volumefrom  volumeto\n",
       "time                                                                         \n",
       "2017-06-02 19:42:00  2163.31  2163.33  2162.02  2162.98        1.21   2618.12\n",
       "2017-06-02 19:43:00  2162.98  2163.60  2162.04  2163.31        1.19   2568.62\n",
       "2017-06-02 19:44:00  2166.93  2166.93  2162.98  2162.98       15.09  32694.33\n",
       "2017-06-02 19:45:00  2163.00  2166.93  2163.00  2166.93        1.66   3595.69\n",
       "2017-06-02 19:46:00  2157.73  2163.73  2157.73  2163.00        5.33  11533.73"
      ]
     },
     "metadata": {},
     "output_type": "display_data"
    },
    {
     "data": {
      "text/html": [
       "<div>\n",
       "<table border=\"1\" class=\"dataframe\">\n",
       "  <thead>\n",
       "    <tr style=\"text-align: right;\">\n",
       "      <th></th>\n",
       "      <th>close</th>\n",
       "      <th>high</th>\n",
       "      <th>low</th>\n",
       "      <th>open</th>\n",
       "      <th>volumefrom</th>\n",
       "      <th>volumeto</th>\n",
       "    </tr>\n",
       "    <tr>\n",
       "      <th>time</th>\n",
       "      <th></th>\n",
       "      <th></th>\n",
       "      <th></th>\n",
       "      <th></th>\n",
       "      <th></th>\n",
       "      <th></th>\n",
       "    </tr>\n",
       "  </thead>\n",
       "  <tbody>\n",
       "    <tr>\n",
       "      <th>2017-06-02 22:50:00</th>\n",
       "      <td>2189.25</td>\n",
       "      <td>2189.64</td>\n",
       "      <td>2189.03</td>\n",
       "      <td>2189.64</td>\n",
       "      <td>0.1385</td>\n",
       "      <td>303.27</td>\n",
       "    </tr>\n",
       "    <tr>\n",
       "      <th>2017-06-02 22:51:00</th>\n",
       "      <td>2189.90</td>\n",
       "      <td>2189.90</td>\n",
       "      <td>2189.25</td>\n",
       "      <td>2189.25</td>\n",
       "      <td>0.2803</td>\n",
       "      <td>613.75</td>\n",
       "    </tr>\n",
       "    <tr>\n",
       "      <th>2017-06-02 22:52:00</th>\n",
       "      <td>2188.03</td>\n",
       "      <td>2189.90</td>\n",
       "      <td>2188.03</td>\n",
       "      <td>2189.90</td>\n",
       "      <td>0.5344</td>\n",
       "      <td>1169.80</td>\n",
       "    </tr>\n",
       "    <tr>\n",
       "      <th>2017-06-02 22:53:00</th>\n",
       "      <td>2188.03</td>\n",
       "      <td>2188.03</td>\n",
       "      <td>2188.03</td>\n",
       "      <td>2188.03</td>\n",
       "      <td>0.0000</td>\n",
       "      <td>0.00</td>\n",
       "    </tr>\n",
       "    <tr>\n",
       "      <th>2017-06-02 22:54:00</th>\n",
       "      <td>2189.98</td>\n",
       "      <td>2188.03</td>\n",
       "      <td>2188.03</td>\n",
       "      <td>2188.03</td>\n",
       "      <td>0.0000</td>\n",
       "      <td>0.00</td>\n",
       "    </tr>\n",
       "  </tbody>\n",
       "</table>\n",
       "</div>"
      ],
      "text/plain": [
       "                       close     high      low     open  volumefrom  volumeto\n",
       "time                                                                         \n",
       "2017-06-02 22:50:00  2189.25  2189.64  2189.03  2189.64      0.1385    303.27\n",
       "2017-06-02 22:51:00  2189.90  2189.90  2189.25  2189.25      0.2803    613.75\n",
       "2017-06-02 22:52:00  2188.03  2189.90  2188.03  2189.90      0.5344   1169.80\n",
       "2017-06-02 22:53:00  2188.03  2188.03  2188.03  2188.03      0.0000      0.00\n",
       "2017-06-02 22:54:00  2189.98  2188.03  2188.03  2188.03      0.0000      0.00"
      ]
     },
     "metadata": {},
     "output_type": "display_data"
    }
   ],
   "source": [
    "##### Hourly data from cryprocompare\n",
    "\n",
    "import pandas as pd\n",
    "import datetime\n",
    "import time\n",
    "import requests\n",
    "from IPython.display import display\n",
    "\n",
    "# generic url for data extraction from cryptocompare.com's API\n",
    "url = 'https://min-api.cryptocompare.com/data/{0}?fsym={1}&tsym={2}&limit={3}&toTs={4}&e={5}'\n",
    "\n",
    "# parameters for the url\n",
    "# data resolution {0}\n",
    "hourly_data = \"histohour\"\n",
    "minute_data = \"histominute\"\n",
    "# currency from {1}\n",
    "curr_from = \"BTC\"\n",
    "# currency to {2}\n",
    "curr_to = \"EUR\"\n",
    "\n",
    "############################################################\n",
    "# limit of hours with maximum 2000 (1992 is 83 days) {3}\n",
    "# calculating and converting time for data extraction {4}\n",
    "date_from_datetime  = datetime.datetime(2017, 5, 28, 0, 0)\n",
    "print(date_from_datetime)\n",
    "\n",
    "# enter date_to that is <= than 83 days from date_from for hourly data or <= 83 hr if minute data\n",
    "date_to_datetime = datetime.datetime(2017, 6, 5, 0, 0)\n",
    "print(date_to_datetime)\n",
    "\n",
    "# checking that the entered dates have no more than 2000 hr between them\n",
    "delta_in_hours = int(((date_to_datetime - date_from_datetime).total_seconds() / 3600))\n",
    "print(\"There are {0} hrs or {1:.2f} days between the dates {2} and {3}\".format(delta_in_hours, delta_in_hours / 24, \\\n",
    "      date_from_datetime, date_to_datetime))\n",
    "limit_hours = 2000\n",
    "assert (delta_in_hours < limit_hours), \\\n",
    "\"There must be <= {0} hrs between dates, but the current value is {1}. Change the dates interval\"\\\n",
    ".format(limit_hours, delta_in_hours)\n",
    "    \n",
    "# calculating the the date_to by adding 1999 hr to the date_from\n",
    "# date_to = (date_from_datetime + datetime.timedelta(hours=2000-1))\n",
    "date_to_timestamp = date_to_datetime.timestamp()\n",
    "print(\"The Date To timestamp is {}\".format(date_to_timestamp))\n",
    "############################################################\n",
    "\n",
    "# coin exchange name, if not used, then CCAGG  {5}\n",
    "exchange = \"Kraken\"#\"&e=Kraken\" (default exchange is CCCAGG)\n",
    "\n",
    "\n",
    "\n",
    "r = requests.get(url.format(minute_data, curr_from, curr_to, delta_in_hours, date_to_timestamp, exchange))\n",
    "\n",
    "df = pd.DataFrame(r.json()['Data'])\n",
    "df.time = pd.to_datetime(df.time, unit='s')\n",
    "if exchange == \"\": exchange = \"CCCAGG\"\n",
    "print(\"Prices from the exchange: {}\".format(exchange))\n",
    "\n",
    "print(\"##########################\")\n",
    "df.set_index(df['time'], drop=True, inplace=True)\n",
    "del df['time']\n",
    "display(df.head(5))\n",
    "display(df.tail(5))\n",
    "\n",
    "\n"
   ]
  },
  {
   "cell_type": "code",
   "execution_count": 80,
   "metadata": {},
   "outputs": [
    {
     "data": {
      "text/plain": [
       "{'AED': '3.67',\n",
       " 'AFN': '67.92',\n",
       " 'ALL': '118.85',\n",
       " 'AMD': '482.44',\n",
       " 'ANG': '1.78',\n",
       " 'AOA': '165.92',\n",
       " 'ARS': '16.04',\n",
       " 'AUD': '1.34',\n",
       " 'AWG': '1.80',\n",
       " 'AZN': '1.69',\n",
       " 'BAM': '1.75',\n",
       " 'BBD': '2.00',\n",
       " 'BDT': '80.35',\n",
       " 'BGN': '1.73',\n",
       " 'BHD': '0.377',\n",
       " 'BIF': '1716',\n",
       " 'BMD': '1.00',\n",
       " 'BND': '1.38',\n",
       " 'BOB': '6.91',\n",
       " 'BRL': '3.25',\n",
       " 'BSD': '1.00',\n",
       " 'BTC': '0.00040900',\n",
       " 'BTN': '64.45',\n",
       " 'BWP': '10.20',\n",
       " 'BYN': '1.87',\n",
       " 'BYR': '20026',\n",
       " 'BZD': '2.01',\n",
       " 'CAD': '1.35',\n",
       " 'CDF': '1428.86',\n",
       " 'CHF': '0.96',\n",
       " 'CLF': '0.0249',\n",
       " 'CLP': '670',\n",
       " 'CNY': '6.81',\n",
       " 'COP': '2895.48',\n",
       " 'CRC': '565.52',\n",
       " 'CUC': '1.00',\n",
       " 'CVE': '98.40',\n",
       " 'CZK': '23.34',\n",
       " 'DJF': '179',\n",
       " 'DKK': '6.59',\n",
       " 'DOP': '46.99',\n",
       " 'DZD': '108.24',\n",
       " 'EEK': '14.61',\n",
       " 'EGP': '18.00',\n",
       " 'ERN': '15.35',\n",
       " 'ETB': '23.20',\n",
       " 'ETH': '0.00452530',\n",
       " 'EUR': '0.89',\n",
       " 'FJD': '2.08',\n",
       " 'FKP': '0.78',\n",
       " 'GBP': '0.78',\n",
       " 'GEL': '2.42',\n",
       " 'GGP': '0.78',\n",
       " 'GHS': '4.29',\n",
       " 'GIP': '0.78',\n",
       " 'GMD': '46.16',\n",
       " 'GNF': '9120',\n",
       " 'GTQ': '7.36',\n",
       " 'GYD': '206.80',\n",
       " 'HKD': '7.79',\n",
       " 'HNL': '23.36',\n",
       " 'HRK': '6.57',\n",
       " 'HTG': '68.50',\n",
       " 'HUF': '273',\n",
       " 'IDR': '13307.41',\n",
       " 'ILS': '3.55',\n",
       " 'IMP': '0.78',\n",
       " 'INR': '64.26',\n",
       " 'IQD': '1161.400',\n",
       " 'ISK': '98',\n",
       " 'JEP': '0.78',\n",
       " 'JMD': '130.23',\n",
       " 'JOD': '0.710',\n",
       " 'JPY': '110',\n",
       " 'KES': '103.40',\n",
       " 'KGS': '68.13',\n",
       " 'KHR': '4048.35',\n",
       " 'KMF': '439',\n",
       " 'KRW': '1118',\n",
       " 'KWD': '0.304',\n",
       " 'KYD': '0.83',\n",
       " 'KZT': '312.12',\n",
       " 'LAK': '8166.40',\n",
       " 'LBP': '1497.95',\n",
       " 'LKR': '153.08',\n",
       " 'LRD': '94.50',\n",
       " 'LSL': '12.88',\n",
       " 'LTC': '0.03594536',\n",
       " 'LTL': '3.22',\n",
       " 'LVL': '0.66',\n",
       " 'LYD': '1.388',\n",
       " 'MAD': '9.69',\n",
       " 'MDL': '18.19',\n",
       " 'MGA': '3091.2',\n",
       " 'MKD': '54.58',\n",
       " 'MMK': '1361.80',\n",
       " 'MNT': '2390.17',\n",
       " 'MOP': '8.03',\n",
       " 'MRO': '358.2',\n",
       " 'MTL': '0.68',\n",
       " 'MUR': '34.70',\n",
       " 'MVR': '15.61',\n",
       " 'MWK': '725.96',\n",
       " 'MXN': '18.68',\n",
       " 'MYR': '4.28',\n",
       " 'MZN': '70.93',\n",
       " 'NAD': '12.88',\n",
       " 'NGN': '313.00',\n",
       " 'NIO': '29.89',\n",
       " 'NOK': '8.41',\n",
       " 'NPR': '103.11',\n",
       " 'NZD': '1.40',\n",
       " 'OMR': '0.385',\n",
       " 'PAB': '1.00',\n",
       " 'PEN': '3.27',\n",
       " 'PGK': '3.16',\n",
       " 'PHP': '49.35',\n",
       " 'PKR': '104.24',\n",
       " 'PLN': '3.71',\n",
       " 'PYG': '5563',\n",
       " 'QAR': '3.64',\n",
       " 'RON': '4.05',\n",
       " 'RSD': '108.35',\n",
       " 'RUB': '56.63',\n",
       " 'RWF': '840',\n",
       " 'SAR': '3.75',\n",
       " 'SBD': '7.90',\n",
       " 'SCR': '13.34',\n",
       " 'SEK': '8.62',\n",
       " 'SGD': '1.38',\n",
       " 'SHP': '0.78',\n",
       " 'SLL': '7522.35',\n",
       " 'SOS': '575.15',\n",
       " 'SRD': '7.53',\n",
       " 'SSP': '122.50',\n",
       " 'STD': '21656.61',\n",
       " 'SVC': '8.75',\n",
       " 'SZL': '12.85',\n",
       " 'THB': '34.05',\n",
       " 'TJS': '8.81',\n",
       " 'TMT': '3.51',\n",
       " 'TND': '2.426',\n",
       " 'TOP': '2.29',\n",
       " 'TRY': '3.51',\n",
       " 'TTD': '6.69',\n",
       " 'TWD': '30.11',\n",
       " 'TZS': '2236.40',\n",
       " 'UAH': '26.13',\n",
       " 'UGX': '3597',\n",
       " 'USD': '1.00',\n",
       " 'UYU': '28.14',\n",
       " 'UZS': '3824.40',\n",
       " 'VEF': '10.12',\n",
       " 'VND': '22687',\n",
       " 'VUV': '108',\n",
       " 'WST': '2.56',\n",
       " 'XAF': '583',\n",
       " 'XAG': '0',\n",
       " 'XAU': '0',\n",
       " 'XCD': '2.70',\n",
       " 'XDR': '1',\n",
       " 'XOF': '584',\n",
       " 'XPD': '0',\n",
       " 'XPF': '107',\n",
       " 'XPT': '0',\n",
       " 'YER': '250.20',\n",
       " 'ZAR': '12.82',\n",
       " 'ZMK': '5253.08',\n",
       " 'ZMW': '9.30',\n",
       " 'ZWL': '322.39'}"
      ]
     },
     "execution_count": 80,
     "metadata": {},
     "output_type": "execute_result"
    }
   ],
   "source": [
    "coinb = requests.get('https://api.coinbase.com/v2/exchange-rates')\n",
    "coinb.json()['data']['rates']"
   ]
  },
  {
   "cell_type": "code",
   "execution_count": 82,
   "metadata": {},
   "outputs": [
    {
     "data": {
      "text/plain": [
       "[{'24h_volume_usd': '1305680000.0',\n",
       "  'available_supply': '16367912.0',\n",
       "  'id': 'bitcoin',\n",
       "  'last_updated': '1496444963',\n",
       "  'market_cap_usd': '40552647734.0',\n",
       "  'name': 'Bitcoin',\n",
       "  'percent_change_1h': '1.07',\n",
       "  'percent_change_24h': '3.71',\n",
       "  'percent_change_7d': '11.91',\n",
       "  'price_btc': '1.0',\n",
       "  'price_usd': '2477.57',\n",
       "  'rank': '1',\n",
       "  'symbol': 'BTC',\n",
       "  'total_supply': '16367912.0'}]"
      ]
     },
     "execution_count": 82,
     "metadata": {},
     "output_type": "execute_result"
    }
   ],
   "source": [
    "coinmarket = requests.get('https://api.coinmarketcap.com/v1/ticker/bitcoin/')\n",
    "coinmarket.json()\n"
   ]
  },
  {
   "cell_type": "code",
   "execution_count": null,
   "metadata": {
    "collapsed": true
   },
   "outputs": [],
   "source": []
  },
  {
   "cell_type": "code",
   "execution_count": null,
   "metadata": {
    "collapsed": true
   },
   "outputs": [],
   "source": []
  }
 ],
 "metadata": {
  "kernelspec": {
   "display_name": "Python 3",
   "language": "python",
   "name": "python3"
  },
  "language_info": {
   "codemirror_mode": {
    "name": "ipython",
    "version": 3
   },
   "file_extension": ".py",
   "mimetype": "text/x-python",
   "name": "python",
   "nbconvert_exporter": "python",
   "pygments_lexer": "ipython3",
   "version": "3.5.3"
  }
 },
 "nbformat": 4,
 "nbformat_minor": 2
}
