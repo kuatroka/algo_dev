{
 "cells": [
  {
   "cell_type": "code",
   "execution_count": null,
   "metadata": {
    "collapsed": true,
    "scrolled": true
   },
   "outputs": [],
   "source": [
    "import json\n",
    "import pandas as pd\n",
    "from coinmarketcap import Market\n",
    "# function that checks for NaN in a pandas df\n",
    "def check_nan(df):\n",
    "    count = 0\n",
    "    for i,j in enumerate(df.isnull().sum()):\n",
    "        if j != 0:\n",
    "            print(df.columns[i], \"contains {} NaN\".format(j))\n",
    "            count += 1\n",
    "    if count == 0:\n",
    "        print(\"no NaN\")\n",
    "\n",
    "\n",
    "coinmarketcap = Market()\n",
    "# the output of below call is byte so we need to convert it to str\n",
    "a = coinmarketcap.ticker()\n",
    "# conversion bytecode to str\n",
    "json_thing = a.decode()\n",
    "json_thing = json.loads(json_thing)\n",
    "df = pd.DataFrame(json_thing)\n",
    "df.last_updated = pd.to_datetime(df.last_updated, unit='s')\n",
    "del df['available_supply']\n",
    "del df['id']\n",
    "del df['percent_change_1h']\n",
    "del df['percent_change_7d']\n",
    "del df['name']\n",
    "del df['total_supply']\n",
    "\n",
    "df = df[['24h_volume_usd', 'symbol', 'last_updated', 'market_cap_usd',\n",
    "       'percent_change_24h', 'price_btc', 'price_usd', 'rank']]\n",
    "check_nan(df)\n",
    "df.dropna(inplace=True)\n",
    "check_nan(df)\n",
    "# df.sort_values('24h_volume_usd', ascending=False, inplace=True)\n",
    "json_thing"
   ]
  },
  {
   "cell_type": "code",
   "execution_count": 140,
   "metadata": {},
   "outputs": [
    {
     "name": "stdout",
     "output_type": "stream",
     "text": [
      "1413021600\n",
      "1420192800\n"
     ]
    }
   ],
   "source": [
    "# limit = 2000 <> rows 2000\n",
    "# from 2014-10-11 03:00:00\n",
    "# to 2015-01-02 10:00:00\n",
    "\n",
    "print(r.json()['TimeFrom'])\n",
    "print(r.json()['TimeTo'])"
   ]
  },
  {
   "cell_type": "code",
   "execution_count": 179,
   "metadata": {},
   "outputs": [
    {
     "name": "stdout",
     "output_type": "stream",
     "text": [
      "Date From 2014-10-11 04:00:00\n",
      "Date To 2015-01-02 10:00:00\n"
     ]
    },
    {
     "data": {
      "text/plain": [
       "1420192800.0"
      ]
     },
     "execution_count": 179,
     "metadata": {},
     "output_type": "execute_result"
    }
   ],
   "source": [
    "import datetime\n",
    "print(\"Date From\",datetime.datetime.fromtimestamp(r.json()['TimeFrom']))\n",
    "print(\"Date To\", datetime.datetime.fromtimestamp(r.json()['TimeTo']))\n",
    "\n",
    "date_from  = datetime.datetime(2015, 1, 2, 10, 00, 00).timestamp()\n",
    "date_from"
   ]
  },
  {
   "cell_type": "code",
   "execution_count": 170,
   "metadata": {},
   "outputs": [
    {
     "data": {
      "text/plain": [
       "datetime.datetime(2015, 1, 2, 10, 59, 59)"
      ]
     },
     "execution_count": 170,
     "metadata": {},
     "output_type": "execute_result"
    }
   ],
   "source": [
    "datetime.datetime.fromtimestamp(1420196399)"
   ]
  },
  {
   "cell_type": "code",
   "execution_count": 268,
   "metadata": {},
   "outputs": [
    {
     "data": {
      "text/plain": [
       "1412982000.0"
      ]
     },
     "execution_count": 268,
     "metadata": {},
     "output_type": "execute_result"
    }
   ],
   "source": [
    "import datetime\n",
    "import time\n",
    "dt = parser.parse(\"2014-10-11 04:00:00\")\n",
    "time.mktime(dt.timetuple())"
   ]
  },
  {
   "cell_type": "code",
   "execution_count": 160,
   "metadata": {
    "collapsed": true
   },
   "outputs": [],
   "source": [
    "from dateutil import parser\n",
    "dt = parser.parse(\"2014-10-11 04:00:00\")"
   ]
  },
  {
   "cell_type": "markdown",
   "metadata": {},
   "source": [
    "### Historical data extraction with help of cryptocompare.com API\n",
    "https://www.cryptocompare.com/api/#introduction"
   ]
  },
  {
   "cell_type": "code",
   "execution_count": 3,
   "metadata": {},
   "outputs": [
    {
     "name": "stdout",
     "output_type": "stream",
     "text": [
      "2014-01-02 00:00:00\n",
      "2014-03-03 00:00:00\n",
      "There are 1440 hrs or 60.00 days between the dates 2014-01-02 00:00:00 and 2014-03-03 00:00:00\n",
      "The Date To timestamp is 1393804800.0\n",
      "Prices from the exchange: Kraken\n",
      "##########################\n"
     ]
    },
    {
     "data": {
      "text/html": [
       "<div>\n",
       "<table border=\"1\" class=\"dataframe\">\n",
       "  <thead>\n",
       "    <tr style=\"text-align: right;\">\n",
       "      <th></th>\n",
       "      <th>close</th>\n",
       "      <th>high</th>\n",
       "      <th>low</th>\n",
       "      <th>open</th>\n",
       "      <th>volumefrom</th>\n",
       "      <th>volumeto</th>\n",
       "    </tr>\n",
       "    <tr>\n",
       "      <th>time</th>\n",
       "      <th></th>\n",
       "      <th></th>\n",
       "      <th></th>\n",
       "      <th></th>\n",
       "      <th></th>\n",
       "      <th></th>\n",
       "    </tr>\n",
       "  </thead>\n",
       "  <tbody>\n",
       "    <tr>\n",
       "      <th>2014-01-02 00:00:00</th>\n",
       "      <td>547.90</td>\n",
       "      <td>548.0</td>\n",
       "      <td>546.0</td>\n",
       "      <td>547.00</td>\n",
       "      <td>4.3100</td>\n",
       "      <td>2362.54</td>\n",
       "    </tr>\n",
       "    <tr>\n",
       "      <th>2014-01-02 01:00:00</th>\n",
       "      <td>547.00</td>\n",
       "      <td>547.9</td>\n",
       "      <td>546.0</td>\n",
       "      <td>547.90</td>\n",
       "      <td>1.1600</td>\n",
       "      <td>635.53</td>\n",
       "    </tr>\n",
       "    <tr>\n",
       "      <th>2014-01-02 02:00:00</th>\n",
       "      <td>546.99</td>\n",
       "      <td>547.0</td>\n",
       "      <td>546.0</td>\n",
       "      <td>547.00</td>\n",
       "      <td>1.8700</td>\n",
       "      <td>1024.30</td>\n",
       "    </tr>\n",
       "    <tr>\n",
       "      <th>2014-01-02 03:00:00</th>\n",
       "      <td>546.00</td>\n",
       "      <td>547.0</td>\n",
       "      <td>542.9</td>\n",
       "      <td>546.99</td>\n",
       "      <td>1.5400</td>\n",
       "      <td>840.77</td>\n",
       "    </tr>\n",
       "    <tr>\n",
       "      <th>2014-01-02 04:00:00</th>\n",
       "      <td>545.00</td>\n",
       "      <td>546.0</td>\n",
       "      <td>545.0</td>\n",
       "      <td>546.00</td>\n",
       "      <td>0.3693</td>\n",
       "      <td>201.26</td>\n",
       "    </tr>\n",
       "  </tbody>\n",
       "</table>\n",
       "</div>"
      ],
      "text/plain": [
       "                      close   high    low    open  volumefrom  volumeto\n",
       "time                                                                   \n",
       "2014-01-02 00:00:00  547.90  548.0  546.0  547.00      4.3100   2362.54\n",
       "2014-01-02 01:00:00  547.00  547.9  546.0  547.90      1.1600    635.53\n",
       "2014-01-02 02:00:00  546.99  547.0  546.0  547.00      1.8700   1024.30\n",
       "2014-01-02 03:00:00  546.00  547.0  542.9  546.99      1.5400    840.77\n",
       "2014-01-02 04:00:00  545.00  546.0  545.0  546.00      0.3693    201.26"
      ]
     },
     "metadata": {},
     "output_type": "display_data"
    },
    {
     "data": {
      "text/html": [
       "<div>\n",
       "<table border=\"1\" class=\"dataframe\">\n",
       "  <thead>\n",
       "    <tr style=\"text-align: right;\">\n",
       "      <th></th>\n",
       "      <th>close</th>\n",
       "      <th>high</th>\n",
       "      <th>low</th>\n",
       "      <th>open</th>\n",
       "      <th>volumefrom</th>\n",
       "      <th>volumeto</th>\n",
       "    </tr>\n",
       "    <tr>\n",
       "      <th>time</th>\n",
       "      <th></th>\n",
       "      <th></th>\n",
       "      <th></th>\n",
       "      <th></th>\n",
       "      <th></th>\n",
       "      <th></th>\n",
       "    </tr>\n",
       "  </thead>\n",
       "  <tbody>\n",
       "    <tr>\n",
       "      <th>2014-03-02 20:00:00</th>\n",
       "      <td>417.10</td>\n",
       "      <td>417.57</td>\n",
       "      <td>414.20</td>\n",
       "      <td>414.79</td>\n",
       "      <td>13.56</td>\n",
       "      <td>5643.59</td>\n",
       "    </tr>\n",
       "    <tr>\n",
       "      <th>2014-03-02 21:00:00</th>\n",
       "      <td>414.23</td>\n",
       "      <td>417.10</td>\n",
       "      <td>414.10</td>\n",
       "      <td>417.10</td>\n",
       "      <td>11.53</td>\n",
       "      <td>4784.49</td>\n",
       "    </tr>\n",
       "    <tr>\n",
       "      <th>2014-03-02 22:00:00</th>\n",
       "      <td>415.00</td>\n",
       "      <td>415.87</td>\n",
       "      <td>413.50</td>\n",
       "      <td>414.23</td>\n",
       "      <td>11.02</td>\n",
       "      <td>4572.89</td>\n",
       "    </tr>\n",
       "    <tr>\n",
       "      <th>2014-03-02 23:00:00</th>\n",
       "      <td>412.03</td>\n",
       "      <td>415.70</td>\n",
       "      <td>412.03</td>\n",
       "      <td>415.00</td>\n",
       "      <td>16.89</td>\n",
       "      <td>6973.32</td>\n",
       "    </tr>\n",
       "    <tr>\n",
       "      <th>2014-03-03 00:00:00</th>\n",
       "      <td>417.90</td>\n",
       "      <td>417.90</td>\n",
       "      <td>412.01</td>\n",
       "      <td>412.03</td>\n",
       "      <td>20.15</td>\n",
       "      <td>8394.93</td>\n",
       "    </tr>\n",
       "  </tbody>\n",
       "</table>\n",
       "</div>"
      ],
      "text/plain": [
       "                      close    high     low    open  volumefrom  volumeto\n",
       "time                                                                     \n",
       "2014-03-02 20:00:00  417.10  417.57  414.20  414.79       13.56   5643.59\n",
       "2014-03-02 21:00:00  414.23  417.10  414.10  417.10       11.53   4784.49\n",
       "2014-03-02 22:00:00  415.00  415.87  413.50  414.23       11.02   4572.89\n",
       "2014-03-02 23:00:00  412.03  415.70  412.03  415.00       16.89   6973.32\n",
       "2014-03-03 00:00:00  417.90  417.90  412.01  412.03       20.15   8394.93"
      ]
     },
     "metadata": {},
     "output_type": "display_data"
    }
   ],
   "source": [
    "##### Hourly data from cryprocompare\n",
    "\n",
    "import pandas as pd\n",
    "import datetime\n",
    "import requests\n",
    "from IPython.display import display\n",
    "\n",
    "# generic url for data extraction from cryptocompare.com's API\n",
    "url = 'https://min-api.cryptocompare.com/data/{0}?fsym={1}&tsym={2}&limit={3}&toTs={4}&e={5}'\n",
    "\n",
    "# parameters for the url\n",
    "# data resolution {0}\n",
    "hourly_data = \"histohour\"\n",
    "minute_data = \"histominute\"\n",
    "# currency from {1}\n",
    "curr_from = \"BTC\"\n",
    "# currency to {2}\n",
    "curr_to = \"EUR\"\n",
    "\n",
    "############################################################\n",
    "# limit of hours with maximum 2000 (1992 is 83 days) {3}\n",
    "# calculating and converting time for data extraction {4}\n",
    "date_from_datetime  = datetime.datetime(2014, 1, 2, 0, 0)\n",
    "print(date_from_datetime)\n",
    "\n",
    "# enter date_to that is <= than 83 days from date_from for hourly data or <= 83 hr if minute data\n",
    "date_to_datetime = datetime.datetime(2014, 3, 3 , 0, 0)\n",
    "print(date_to_datetime)\n",
    "\n",
    "# checking that the entered dates have no more than 2000 hr between them\n",
    "delta_in_hours = int(((date_to_datetime - date_from_datetime).total_seconds() / 3600))\n",
    "print(\"There are {0} hrs or {1:.2f} days between the dates {2} and {3}\".format(delta_in_hours, delta_in_hours / 24, \\\n",
    "      date_from_datetime, date_to_datetime))\n",
    "limit_hours = 2000\n",
    "assert (delta_in_hours < limit_hours), \\\n",
    "\"There must be <= {0} hrs between dates, but the current value is {1}. Change the dates interval\"\\\n",
    ".format(limit_hours, delta_in_hours)\n",
    "    \n",
    "# calculating the the date_to by adding 1999 hr to the date_from\n",
    "# date_to = (date_from_datetime + datetime.timedelta(hours=2000-1))\n",
    "date_to_timestamp = date_to_datetime.timestamp()\n",
    "print(\"The Date To timestamp is {}\".format(date_to_timestamp))\n",
    "############################################################\n",
    "\n",
    "# coin exchange name, if not used, then CCAGG  {5}\n",
    "exchange = \"Kraken\"#\"&e=Kraken\" (default exchange is CCCAGG)\n",
    "\n",
    "\n",
    "\n",
    "r = requests.get(url.format(hourly_data, curr_from, curr_to, delta_in_hours, date_to_timestamp, exchange))\n",
    "\n",
    "df = pd.DataFrame(r.json()['Data'])\n",
    "df.time = pd.to_datetime(df.time, unit='s')\n",
    "if exchange == \"\": exchange = \"CCCAGG\"\n",
    "print(\"Prices from the exchange: {}\".format(exchange))\n",
    "\n",
    "print(\"##########################\")\n",
    "df.set_index(df['time'], drop=True, inplace=True)\n",
    "del df['time']\n",
    "display(df.head(5))\n",
    "display(df.tail(5))\n",
    "\n",
    "\n"
   ]
  },
  {
   "cell_type": "code",
   "execution_count": null,
   "metadata": {
    "collapsed": true
   },
   "outputs": [],
   "source": []
  }
 ],
 "metadata": {
  "kernelspec": {
   "display_name": "Python 3",
   "language": "python",
   "name": "python3"
  },
  "language_info": {
   "codemirror_mode": {
    "name": "ipython",
    "version": 3
   },
   "file_extension": ".py",
   "mimetype": "text/x-python",
   "name": "python",
   "nbconvert_exporter": "python",
   "pygments_lexer": "ipython3",
   "version": "3.5.3"
  }
 },
 "nbformat": 4,
 "nbformat_minor": 2
}
